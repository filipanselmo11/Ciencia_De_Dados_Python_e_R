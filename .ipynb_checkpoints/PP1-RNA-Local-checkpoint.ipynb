{
 "cells": [
  {
   "cell_type": "code",
   "execution_count": 1,
   "metadata": {},
   "outputs": [],
   "source": [
    "import pandas as pd\n",
    "import numpy as np\n",
    "from collections import Counter\n",
    "import matplotlib.pyplot as plt"
   ]
  },
  {
   "cell_type": "code",
   "execution_count": 2,
   "metadata": {},
   "outputs": [],
   "source": [
    "df = pd.read_csv('Manaus.csv', sep=';', low_memory=False)"
   ]
  },
  {
   "cell_type": "code",
   "execution_count": 3,
   "metadata": {},
   "outputs": [],
   "source": [
    "df_cases_confirmed = df[df['_classificacao'].isin(['Confirmado'])]"
   ]
  },
  {
   "cell_type": "code",
   "execution_count": 4,
   "metadata": {},
   "outputs": [
    {
     "name": "stdout",
     "output_type": "stream",
     "text": [
      "Total de  36  atributos que descrevem cada exemplo, sendo eles:\n",
      "_idade\n",
      "_faixa etária\n",
      "_sexo\n",
      "_bairro\n",
      "_classificacao\n",
      "_comorb_renal\n",
      "_comorb_diabetes\n",
      "_comorb_imuno\n",
      "_comorb_cardio\n",
      "_conclusao\n",
      "_dt_notificacao\n",
      "_taxa\n",
      "_dt_evolucao\n",
      "_raca\n",
      "_dt_sintomas\n",
      "_criterio\n",
      "_tipo_teste\n",
      "_sintoma_garganta\n",
      "_sintoma_dispneia\n",
      "_sintoma_febre\n",
      "_sintoma_tosse\n",
      "_sintoma_outros\n",
      "_etnia\n",
      "_profiss_saude\n",
      "_srag\n",
      "_se_notificacao\n",
      "_distrito\n",
      "_bairro_mapa\n",
      "_comorb_respiratoria\n",
      "_comorb_cromossomica\n",
      "_comorb_hepatica\n",
      "_comorb_neurologica\n",
      "_comorb_hemato\n",
      "_comorb_obessidade\n",
      "_origem\n",
      "_evolução\n"
     ]
    }
   ],
   "source": [
    "print(\"Total de \",df.shape[1],\" atributos que descrevem cada exemplo, sendo eles:\")\n",
    "df_columns = df.columns.to_numpy()\n",
    "for i in df_columns:\n",
    "    print(i)"
   ]
  },
  {
   "cell_type": "code",
   "execution_count": 5,
   "metadata": {},
   "outputs": [
    {
     "name": "stdout",
     "output_type": "stream",
     "text": [
      "Total de 36671 casos confirmados em Manaus.\n"
     ]
    }
   ],
   "source": [
    "print(\"Total de {} casos confirmados em Manaus.\".format(df_cases_confirmed.shape[0]))"
   ]
  },
  {
   "cell_type": "code",
   "execution_count": 6,
   "metadata": {},
   "outputs": [
    {
     "name": "stdout",
     "output_type": "stream",
     "text": [
      "O registro mais antigo eh de '01/04/2020' e o mais recente de '31/07/2020'.\n"
     ]
    }
   ],
   "source": [
    "df_dates = df_cases_confirmed['_dt_notificacao'].drop_duplicates().dropna().to_numpy()\n",
    "array_dates = np.sort(df_dates)\n",
    "print(\"O registro mais antigo eh de '{}' e o mais recente de '{}'.\".format(array_dates[0],array_dates[-1]))\n"
   ]
  },
  {
   "cell_type": "code",
   "execution_count": 7,
   "metadata": {},
   "outputs": [],
   "source": [
    "df_cases_confirmed = df_cases_confirmed.drop(['_comorb_renal', '_comorb_diabetes', '_comorb_imuno', '_comorb_cardio', '_comorb_respiratoria', '_comorb_cromossomica', '_comorb_hepatica', '_comorb_neurologica', '_comorb_hemato', '_comorb_obessidade', '_sintoma_garganta', '_sintoma_dispneia', '_sintoma_febre', '_sintoma_tosse', '_sintoma_outros', '_etnia', '_profiss_saude', '_dt_evolucao', '_dt_sintomas', '_raca', '_srag', '_origem', '_evolução', '_criterio'], axis=1).dropna()"
   ]
  },
  {
   "cell_type": "code",
   "execution_count": 8,
   "metadata": {},
   "outputs": [
    {
     "name": "stdout",
     "output_type": "stream",
     "text": [
      "Total de Atributos:  12\n",
      "Total de Exemplos:  6145\n"
     ]
    }
   ],
   "source": [
    "print(\"Total de Atributos: \", df_cases_confirmed.shape[1])\n",
    "print(\"Total de Exemplos: \", df_cases_confirmed.shape[0])\n"
   ]
  },
  {
   "cell_type": "code",
   "execution_count": 9,
   "metadata": {},
   "outputs": [
    {
     "name": "stdout",
     "output_type": "stream",
     "text": [
      "Total de casos: 107221\n",
      "Total recuperado: 60671 = %57\n"
     ]
    }
   ],
   "source": [
    "amount_recovered = int(df[df['_conclusao'].isin(['Recuperado'])].shape[0])\n",
    "amount_total = int(df.shape[0])\n",
    "\n",
    "print(\"Total de casos: {}\\nTotal recuperado: {} = %{:.0f}\".format(amount_total, amount_recovered, ((amount_recovered*100)/amount_total)))"
   ]
  },
  {
   "cell_type": "code",
   "execution_count": 10,
   "metadata": {},
   "outputs": [
    {
     "name": "stdout",
     "output_type": "stream",
     "text": [
      "Feminino, com 59021 casos.\n"
     ]
    }
   ],
   "source": [
    "amount_male = int(df[df['_sexo'].isin(['M'])].shape[0])\n",
    "amount_female = int(df[df['_sexo'].isin(['F'])].shape[0])\n",
    "\n",
    "if (amount_male > amount_female):\n",
    "    print(\"Masculino, com {} casos.\".format(amount_male))\n",
    "else:\n",
    "    print(\"Feminino, com {} casos.\".format(amount_female))"
   ]
  },
  {
   "cell_type": "code",
   "execution_count": 11,
   "metadata": {},
   "outputs": [
    {
     "name": "stdout",
     "output_type": "stream",
     "text": [
      "Média de idade: 41.02112163146395\n",
      "Desvio Padrão: 16.8004335024861\n",
      "O mais jovem tem 0.0 anos e o mais idoso tem 118.0 anos\n"
     ]
    }
   ],
   "source": [
    "df['_idade'] = df['_idade'].to_frame().query('_idade < 120')['_idade']\n",
    "\n",
    "df_average_age = df['_idade'].mean()\n",
    "df_standard_deviation = df['_idade'].std() \n",
    "\n",
    "df_the_oldest = df['_idade'].max()\n",
    "df_the_youngest = df['_idade'].min()\n",
    "\n",
    "print('Média de idade: {}\\nDesvio Padrão: {}\\nO mais jovem tem {} anos e o mais idoso tem {} anos'.format(df_average_age,df_standard_deviation,df_the_youngest,df_the_oldest))"
   ]
  },
  {
   "cell_type": "code",
   "execution_count": 12,
   "metadata": {},
   "outputs": [
    {
     "name": "stdout",
     "output_type": "stream",
     "text": [
      "O bairro com maior incidência de casos foi CIDADE NOVA com 5920 casos.\n"
     ]
    }
   ],
   "source": [
    "neighborhood_highest_incidence = df.groupby(by ='_bairro').size().idxmax()\n",
    "number_of_cases = df.groupby(by ='_bairro').size().max()\n",
    "\n",
    "print ('O bairro com maior incidência de casos foi {} com {} casos.'.format(neighborhood_highest_incidence,number_of_cases))"
   ]
  },
  {
   "cell_type": "code",
   "execution_count": 13,
   "metadata": {},
   "outputs": [
    {
     "name": "stdout",
     "output_type": "stream",
     "text": [
      "Os três bairros com maior incidência de casos recuperados foram CIDADE NOVA com 3115, FLORES com 2420 e JORGE TEIXEIRA com 1730 casos recuperados.\n"
     ]
    }
   ],
   "source": [
    "neighborhoods_highest_recovered_incidence = df[df['_conclusao'].isin(['Recuperado'])].groupby(by ='_bairro').size().sort_values(ascending=False).head(3)\n",
    "\n",
    "print ('Os três bairros com maior incidência de casos recuperados foram {} com {}, {} com {} e {} com {} casos recuperados.'.format(neighborhoods_highest_recovered_incidence.index[0],neighborhoods_highest_recovered_incidence[0], neighborhoods_highest_recovered_incidence.index[1], neighborhoods_highest_recovered_incidence[1], neighborhoods_highest_recovered_incidence.index[2], neighborhoods_highest_recovered_incidence[2]))"
   ]
  },
  {
   "cell_type": "code",
   "execution_count": 14,
   "metadata": {},
   "outputs": [
    {
     "data": {
      "text/plain": [
       "_bairro\n",
       "105                                1\n",
       "114                                1\n",
       "298                                1\n",
       "A MENDES                           1\n",
       "A NASCIMENTO                       1\n",
       "A. NASCIMENTO                      1\n",
       "ABRAAO DE ARAUJO                   1\n",
       "ACACU                              1\n",
       "ADIANOPOLIS                        5\n",
       "ADIRANOPOLIS                       1\n",
       "ADRANÓPOLIS                        2\n",
       "ADRIAMOPOLIS                       1\n",
       "ADRIANAPOLIS                       2\n",
       "ADRIANIPOLIS                       1\n",
       "ADRIANNOPOLIS                      1\n",
       "ADRIANOOLIS                        1\n",
       "ADRIANOPILIS                       2\n",
       "ADRIANOPLIS                        1\n",
       "ADRIANOPOIS                        1\n",
       "ADRIANOPOLES                       4\n",
       "ADRIANOPOLIOS                      1\n",
       "ADRIANOPOLIS                    1176\n",
       "ADRIANOPOLIS COND OURO PRETO       1\n",
       "ADRIANOPOLIS,                      1\n",
       "ADRIANOPPOLIS                      1\n",
       "ADRIANOPÓLIS                       2\n",
       "ADRIANPOLIS                        3\n",
       "ADRIANÓPLOLIS                      1\n",
       "ADRIANÓPOLIS                      31\n",
       "ADRIAOPOLIS                        1\n",
       "                                ... \n",
       "ZONARURAL                          1\n",
       "ZUMBI                             90\n",
       "ZUMBI  DOS PALMARES                5\n",
       "ZUMBI  DPS PALMARES                1\n",
       "ZUMBI 1                            9\n",
       "ZUMBI 2                           27\n",
       "ZUMBI 3                            4\n",
       "ZUMBI DO PALMARES                  1\n",
       "ZUMBI DO PALMARES 2                1\n",
       "ZUMBI DOS PALAMARES                1\n",
       "ZUMBI DOS PALMARES               471\n",
       "ZUMBI DOS PALMARES 1               3\n",
       "ZUMBI DOS PALMARES 2               7\n",
       "ZUMBI DOS PALMARES 3               1\n",
       "ZUMBI DOS PALMARES II              1\n",
       "ZUMBI DOS PALMARIS                 1\n",
       "ZUMBI DOS PALMARRES                1\n",
       "ZUMBI DOS PLAMARES                 2\n",
       "ZUMBI DOS PLMARES                  1\n",
       "ZUMBI I                           18\n",
       "ZUMBI II                          33\n",
       "ZUMBI III                          1\n",
       "ZUMBI1                             1\n",
       "ZUMBIDOS PALMARES                  1\n",
       "ZUMBIM                             1\n",
       "ZUMBIM 3                           1\n",
       "ZUMBIM DOS PALMARES                1\n",
       "`FLORES                            1\n",
       "´PARQUE 10                         1\n",
       "ÁGUAS CLARAS                       1\n",
       "Length: 2399, dtype: int64"
      ]
     },
     "execution_count": 14,
     "metadata": {},
     "output_type": "execute_result"
    }
   ],
   "source": [
    "casos_recuperados = df[df['_conclusao'].isin(['Recuperado'])].groupby(by ='_bairro').size()\n",
    "casos_recuperados"
   ]
  },
  {
   "cell_type": "code",
   "execution_count": 15,
   "metadata": {},
   "outputs": [
    {
     "data": {
      "text/plain": [
       "_bairro\n",
       "CIDADE NOVA          5920\n",
       "FLORES               4087\n",
       "JORGE TEIXEIRA       3084\n",
       "CENTRO               2887\n",
       "PETROPOLIS           2860\n",
       "NOVO ALEIXO          2853\n",
       "ALEIXO               2656\n",
       "SAO JOSE OPERARIO    2646\n",
       "ALVORADA             2605\n",
       "COROADO              2453\n",
       "dtype: int64"
      ]
     },
     "execution_count": 15,
     "metadata": {},
     "output_type": "execute_result"
    }
   ],
   "source": [
    "bairros = df.groupby(by='_bairro').size().sort_values(ascending=False).head(10)\n",
    "bairros"
   ]
  },
  {
   "cell_type": "code",
   "execution_count": 16,
   "metadata": {},
   "outputs": [
    {
     "ename": "TypeError",
     "evalue": "formatter argument should be instance of matplotlib.ticker.Formatter",
     "output_type": "error",
     "traceback": [
      "\u001b[0;31m---------------------------------------------------------------------------\u001b[0m",
      "\u001b[0;31mTypeError\u001b[0m                                 Traceback (most recent call last)",
      "\u001b[0;32m<ipython-input-16-caf9f1f092ef>\u001b[0m in \u001b[0;36m<module>\u001b[0;34m\u001b[0m\n\u001b[1;32m     20\u001b[0m     \u001b[0;32mreturn\u001b[0m \u001b[0max\u001b[0m\u001b[0;34m\u001b[0m\u001b[0;34m\u001b[0m\u001b[0m\n\u001b[1;32m     21\u001b[0m \u001b[0;34m\u001b[0m\u001b[0m\n\u001b[0;32m---> 22\u001b[0;31m \u001b[0mplot\u001b[0m\u001b[0;34m(\u001b[0m\u001b[0mbairros\u001b[0m\u001b[0;34m)\u001b[0m\u001b[0;34m\u001b[0m\u001b[0;34m\u001b[0m\u001b[0m\n\u001b[0m\u001b[1;32m     23\u001b[0m \u001b[0mplt\u001b[0m\u001b[0;34m.\u001b[0m\u001b[0mshow\u001b[0m\u001b[0;34m(\u001b[0m\u001b[0;34m)\u001b[0m\u001b[0;34m\u001b[0m\u001b[0;34m\u001b[0m\u001b[0m\n",
      "\u001b[0;32m<ipython-input-16-caf9f1f092ef>\u001b[0m in \u001b[0;36mplot\u001b[0;34m(counter, ax)\u001b[0m\n\u001b[1;32m     16\u001b[0m \u001b[0;34m\u001b[0m\u001b[0m\n\u001b[1;32m     17\u001b[0m     \u001b[0max\u001b[0m\u001b[0;34m.\u001b[0m\u001b[0mxaxis\u001b[0m\u001b[0;34m.\u001b[0m\u001b[0mset_major_locator\u001b[0m\u001b[0;34m(\u001b[0m\u001b[0mplt\u001b[0m\u001b[0;34m.\u001b[0m\u001b[0mFixedLocator\u001b[0m\u001b[0;34m(\u001b[0m\u001b[0mx_coordinates\u001b[0m\u001b[0;34m)\u001b[0m\u001b[0;34m)\u001b[0m\u001b[0;34m\u001b[0m\u001b[0;34m\u001b[0m\u001b[0m\n\u001b[0;32m---> 18\u001b[0;31m     \u001b[0max\u001b[0m\u001b[0;34m.\u001b[0m\u001b[0mxaxis\u001b[0m\u001b[0;34m.\u001b[0m\u001b[0mset_major_formatter\u001b[0m\u001b[0;34m(\u001b[0m\u001b[0mplt\u001b[0m\u001b[0;34m.\u001b[0m\u001b[0mFixedLocator\u001b[0m\u001b[0;34m(\u001b[0m\u001b[0mnames\u001b[0m\u001b[0;34m)\u001b[0m\u001b[0;34m)\u001b[0m\u001b[0;34m\u001b[0m\u001b[0;34m\u001b[0m\u001b[0m\n\u001b[0m\u001b[1;32m     19\u001b[0m \u001b[0;34m\u001b[0m\u001b[0m\n\u001b[1;32m     20\u001b[0m     \u001b[0;32mreturn\u001b[0m \u001b[0max\u001b[0m\u001b[0;34m\u001b[0m\u001b[0;34m\u001b[0m\u001b[0m\n",
      "\u001b[0;32m~/anaconda3/lib/python3.7/site-packages/matplotlib/axis.py\u001b[0m in \u001b[0;36mset_major_formatter\u001b[0;34m(self, formatter)\u001b[0m\n\u001b[1;32m   1611\u001b[0m         \"\"\"\n\u001b[1;32m   1612\u001b[0m         \u001b[0;32mif\u001b[0m \u001b[0;32mnot\u001b[0m \u001b[0misinstance\u001b[0m\u001b[0;34m(\u001b[0m\u001b[0mformatter\u001b[0m\u001b[0;34m,\u001b[0m \u001b[0mmticker\u001b[0m\u001b[0;34m.\u001b[0m\u001b[0mFormatter\u001b[0m\u001b[0;34m)\u001b[0m\u001b[0;34m:\u001b[0m\u001b[0;34m\u001b[0m\u001b[0;34m\u001b[0m\u001b[0m\n\u001b[0;32m-> 1613\u001b[0;31m             raise TypeError(\"formatter argument should be instance of \"\n\u001b[0m\u001b[1;32m   1614\u001b[0m                     \"matplotlib.ticker.Formatter\")\n\u001b[1;32m   1615\u001b[0m         \u001b[0mself\u001b[0m\u001b[0;34m.\u001b[0m\u001b[0misDefault_majfmt\u001b[0m \u001b[0;34m=\u001b[0m \u001b[0;32mFalse\u001b[0m\u001b[0;34m\u001b[0m\u001b[0;34m\u001b[0m\u001b[0m\n",
      "\u001b[0;31mTypeError\u001b[0m: formatter argument should be instance of matplotlib.ticker.Formatter"
     ]
    },
    {
     "data": {
      "image/png": "[encoded data removed]",
      "text/plain": [
       "<Figure size 432x288 with 1 Axes>"
      ]
     },
     "metadata": {
      "needs_background": "light"
     },
     "output_type": "display_data"
    }
   ],
   "source": [
    "bairrosDict = ['CIDADE NOVA', 'FLORES', 'JORGE TEIXEIRA', 'CENTRO', 'PETROPOLIS',\n",
    "    'NOVO ALEIXO', 'ALEIXO', 'SAO JOSE OPERARIO', 'ALVORADA', 'COROADO']\n",
    "\n",
    "bairros = Counter(bairrosDict)\n",
    "\n",
    "def plot(counter, ax=None):\n",
    "    if(ax is None):\n",
    "        fig = plt.figure()\n",
    "        ax = fig.add_subplot(111)\n",
    "    \n",
    "    frequencies = counter.values()\n",
    "    names = counter.keys()\n",
    "    \n",
    "    x_coordinates = np.arange(len(counter))\n",
    "    ax.bar(x_coordinates, frequencies, align='center')\n",
    "    \n",
    "    ax.xaxis.set_major_locator(plt.FixedLocator(x_coordinates))\n",
    "    ax.xaxis.set_major_formatter(plt.FixedLocator(names))\n",
    "    \n",
    "    return ax\n",
    "\n",
    "plot(bairros)\n",
    "plt.show()"
   ]
  },
  {
   "cell_type": "code",
   "execution_count": null,
   "metadata": {},
   "outputs": [],
   "source": [
    "plt.plot([1, 2, 3, 4])\n",
    "plt.ylabel('Alguns números')\n",
    "plt.show()"
   ]
  },
  {
   "cell_type": "code",
   "execution_count": null,
   "metadata": {},
   "outputs": [],
   "source": [
    "plt.plot([1, 2, 3, 4], [1, 4, 9, 16])"
   ]
  },
  {
   "cell_type": "code",
   "execution_count": null,
   "metadata": {},
   "outputs": [],
   "source": [
    "plt.plot([1, 2, 3, 4], [1, 4, 9, 16], 'ro')\n",
    "plt.axis([0, 6, 0, 20])\n",
    "plt.show()"
   ]
  },
  {
   "cell_type": "code",
   "execution_count": null,
   "metadata": {},
   "outputs": [],
   "source": [
    "t = np.arange(0., 5., 0.2)\n",
    "plt.plot(t, t, 'r--', t, t**2, 'bs', t, t**3, 'g^')\n",
    "plt.show()"
   ]
  },
  {
   "cell_type": "code",
   "execution_count": null,
   "metadata": {},
   "outputs": [],
   "source": [
    "data = {'a': np.arange(50),\n",
    "        'c': np.random.randint(0, 50, 50),\n",
    "        'd': np.random.randn(50)}\n",
    "data['b'] = data['a'] + 10 * np.random.randn(50)\n",
    "data['d'] = np.abs(data['d']) * 100\n",
    "\n",
    "plt.scatter('a', 'b', c='c', s='d', data=data)\n",
    "plt.xlabel('entry a')\n",
    "plt.ylabel('entry b')\n",
    "plt.show()"
   ]
  },
  {
   "cell_type": "code",
   "execution_count": null,
   "metadata": {},
   "outputs": [],
   "source": [
    "names = ['group_a', 'group_b', 'group_c']\n",
    "values = [1, 10, 100]\n",
    "\n",
    "plt.figure(figsize=(9,3))\n",
    "\n",
    "plt.subplot(131)\n",
    "plt.bar(names, values)\n",
    "plt.subplot(132)\n",
    "plt.scatter(names, values)\n",
    "plt.subplot(133)\n",
    "plt.plot(names, values)\n",
    "plt.suptitle('Categorical Plotting')\n",
    "plt.show()"
   ]
  },
  {
   "cell_type": "code",
   "execution_count": 17,
   "metadata": {},
   "outputs": [
    {
     "data": {
      "text/plain": [
       "_bairro\n",
       "CIDADE NOVA          5920\n",
       "FLORES               4087\n",
       "JORGE TEIXEIRA       3084\n",
       "CENTRO               2887\n",
       "PETROPOLIS           2860\n",
       "NOVO ALEIXO          2853\n",
       "ALEIXO               2656\n",
       "SAO JOSE OPERARIO    2646\n",
       "ALVORADA             2605\n",
       "COROADO              2453\n",
       "dtype: int64"
      ]
     },
     "execution_count": 17,
     "metadata": {},
     "output_type": "execute_result"
    }
   ],
   "source": [
    "bairros = df.groupby(by='_bairro').size().sort_values(ascending=False).head(10)\n",
    "bairros"
   ]
  },
  {
   "cell_type": "code",
   "execution_count": 18,
   "metadata": {},
   "outputs": [
    {
     "data": {
      "image/png": "[encoded data removed]",
      "text/plain": [
       "<Figure size 2880x360 with 1 Axes>"
      ]
     },
     "metadata": {
      "needs_background": "light"
     },
     "output_type": "display_data"
    }
   ],
   "source": [
    "bairros = ['Cidade Nova', 'Flores', 'Jorge Teixeira', 'Centro', \n",
    "           'Petropolis', 'Novo Aleixo', 'Aleixo', 'São José Operário',\n",
    "           'Alvorada', 'Coroado', 'Outros']\n",
    "casos = ['59,2', '40,87', '30,84', '28,87', '28,6', '28,53', '26,56', '26,46', '26,05',\n",
    "          '24,53', '294,26']\n",
    "\n",
    "plt.figure(figsize=(40,5))\n",
    "plt.suptitle('A quantidade de casos nos 10 bairros em que houve mais casos registrados')\n",
    "plt.subplot(132)\n",
    "plt.ylabel('Quantidade de casos (%)')\n",
    "plt.bar(bairros, casos)\n",
    "plt.show()"
   ]
  },
  {
   "cell_type": "code",
   "execution_count": 19,
   "metadata": {},
   "outputs": [
    {
     "data": {
      "text/plain": [
       "_bairro\n",
       "LIRO DO VALE2                    1\n",
       "NOSSA SRA  GRACAS                1\n",
       "NOSSA SRA D GRACA                1\n",
       "NOSSA SRA DAS GRA AS             1\n",
       "NOSSA SRA DAS GRACSS             1\n",
       "NOSSA SRA DAS GRCAS              1\n",
       "NOSSA SRA DO P. SOCOORO          1\n",
       "NOSSA SRA FATIMA                 1\n",
       "NOSSA SRA. APARECIDA             1\n",
       "NOSSA SRA. DE FATIMA             1\n",
       "NOSSA SRA. FATIMA II /           1\n",
       "NOSSA SRAGRACAS                  1\n",
       "NOSSA SR° DAS GRACAS             1\n",
       "NOSSAS ENHORA DAS GRAÇAS         1\n",
       "NOSSAS SENHORA DAS GRACAS        1\n",
       "NOSSASENHORA DE FATIMA           1\n",
       "NOV ALEIXO                       1\n",
       "NOV VITORIA                      1\n",
       "NOSSA SR FATIMA                  1\n",
       "NOSSA SR DAS GRACAS              1\n",
       "NOSSA SNHORA DAS GRACAS          1\n",
       "NOSSA SENHROA DAS GRACAS         1\n",
       "NOSSA SENHORA DAS GRASCAS        1\n",
       "NOSSA SENHORA DE FATIMA 02       1\n",
       "NOSSA SENHORA DE FATIMA1         1\n",
       "NOSSA SENHORA DE FATIMAS         1\n",
       "NOSSA SENHORA DE FATMA           1\n",
       "NOSSA SENHORA DE FÁTIMA          1\n",
       "NOSSA SENHORA DE NAZARE          1\n",
       "NOSSA SENHORA DO CARMO           1\n",
       "                              ... \n",
       "CHAPADA                       1001\n",
       "ZUMBI DOS PALMARES            1012\n",
       "MONTE DAS OLIVEIRAS           1083\n",
       "CACHOEIRINHA                  1125\n",
       "DOM PEDRO                     1157\n",
       "COLONIA TERRA NOVA            1195\n",
       "SANTA ETELVINA                1220\n",
       "PLANALTO                      1387\n",
       "PARQUE 10 DE NOVEMBRO         1396\n",
       "SAO JORGE                     1482\n",
       "SANTO ANTONIO                 1487\n",
       "TANCREDO NEVES                1568\n",
       "CIDADE DE DEUS                1656\n",
       "PONTA NEGRA                   1747\n",
       "ADRIANOPOLIS                  1886\n",
       "TARUMA                        2030\n",
       "NOVA CIDADE                   2121\n",
       "JAPIIM                        2147\n",
       "COMPENSA                      2393\n",
       "REDENCAO                      2424\n",
       "COROADO                       2453\n",
       "ALVORADA                      2605\n",
       "SAO JOSE OPERARIO             2646\n",
       "ALEIXO                        2656\n",
       "NOVO ALEIXO                   2853\n",
       "PETROPOLIS                    2860\n",
       "CENTRO                        2887\n",
       "JORGE TEIXEIRA                3084\n",
       "FLORES                        4087\n",
       "CIDADE NOVA                   5920\n",
       "Length: 3471, dtype: int64"
      ]
     },
     "execution_count": 19,
     "metadata": {},
     "output_type": "execute_result"
    }
   ],
   "source": [
    "bairros = df.groupby(by='_bairro').size().sort_values(ascending=True)\n",
    "bairros"
   ]
  },
  {
   "cell_type": "markdown",
   "metadata": {},
   "source": [
    "## 3. Denote em um gráfico de barras o número de novos casos por dia, considerando os 10 últimos dias existentes na base de dados"
   ]
  },
  {
   "cell_type": "code",
   "execution_count": 20,
   "metadata": {},
   "outputs": [],
   "source": [
    "df_cases = pd.to_datetime(df['_dt_notificacao'], format=\"%d/%m/%Y\")\n",
    "array_dates = np.sort(df_cases.dropna().dt.strftime(\"%m/%d/%Y\"))\n",
    "unique_elements, counts_elements = np.unique(array_dates, return_counts=True)\n",
    "result = np.asarray((unique_elements[::-1], counts_elements[::-1]))\n",
    "last_ten_days_dates = result[0][:10][::-1]\n",
    "last_ten_days_values = result[1][:10][::-1]"
   ]
  },
  {
   "cell_type": "code",
   "execution_count": 21,
   "metadata": {},
   "outputs": [
    {
     "data": {
      "image/png": "[encoded data removed]",
      "text/plain": [
       "<Figure size 1080x360 with 1 Axes>"
      ]
     },
     "metadata": {
      "needs_background": "light"
     },
     "output_type": "display_data"
    }
   ],
   "source": [
    "labels = pd.to_datetime(last_ten_days_dates).strftime(\"%d/%m/%y\")\n",
    "values = last_ten_days_values\n",
    "\n",
    "x = np.arange(len(labels))\n",
    "width = 0.5\n",
    "\n",
    "fig, ax = plt.subplots(figsize=(15, 5))\n",
    "rects = ax.bar(x - width/2, values, width, align='edge')\n",
    "\n",
    "ax.set_ylabel('Quantidade')\n",
    "ax.set_title(\"Número de novos casos por dia (10 últimos dias)\")\n",
    "ax.set_xticks(x)\n",
    "plt.xticks(rotation=45)\n",
    "ax.set_xticklabels(labels)\n",
    "\n",
    "def autolabel(rects):\n",
    "    for rect in rects:\n",
    "        height = rect.get_height()\n",
    "        ax.annotate('{}'.format(height),\n",
    "                    xy=(rect.get_x() + rect.get_width()/2, height),\n",
    "                   xytext=(0, 1.5),\n",
    "                   textcoords=\"offset points\",\n",
    "                   ha='center', va='bottom')\n",
    "        \n",
    "autolabel(rects)\n",
    "fig.tight_layout()\n",
    "\n",
    "plt.show()"
   ]
  },
  {
   "cell_type": "markdown",
   "metadata": {},
   "source": [
    "## 4. Repita o gráfico anterior considerando o número de casos recuperado"
   ]
  },
  {
   "cell_type": "code",
   "execution_count": 33,
   "metadata": {},
   "outputs": [
    {
     "ename": "ValueError",
     "evalue": "time data False does not match format '%d/%m/%y' (match)",
     "output_type": "error",
     "traceback": [
      "\u001b[0;31m---------------------------------------------------------------------------\u001b[0m",
      "\u001b[0;31mTypeError\u001b[0m                                 Traceback (most recent call last)",
      "\u001b[0;32m~/anaconda3/lib/python3.7/site-packages/pandas/core/tools/datetimes.py\u001b[0m in \u001b[0;36m_convert_listlike_datetimes\u001b[0;34m(arg, box, format, name, tz, unit, errors, infer_datetime_format, dayfirst, yearfirst, exact)\u001b[0m\n\u001b[1;32m    290\u001b[0m             \u001b[0;32mtry\u001b[0m\u001b[0;34m:\u001b[0m\u001b[0;34m\u001b[0m\u001b[0;34m\u001b[0m\u001b[0m\n\u001b[0;32m--> 291\u001b[0;31m                 \u001b[0mvalues\u001b[0m\u001b[0;34m,\u001b[0m \u001b[0mtz\u001b[0m \u001b[0;34m=\u001b[0m \u001b[0mconversion\u001b[0m\u001b[0;34m.\u001b[0m\u001b[0mdatetime_to_datetime64\u001b[0m\u001b[0;34m(\u001b[0m\u001b[0marg\u001b[0m\u001b[0;34m)\u001b[0m\u001b[0;34m\u001b[0m\u001b[0;34m\u001b[0m\u001b[0m\n\u001b[0m\u001b[1;32m    292\u001b[0m                 \u001b[0;32mreturn\u001b[0m \u001b[0mDatetimeIndex\u001b[0m\u001b[0;34m.\u001b[0m\u001b[0m_simple_new\u001b[0m\u001b[0;34m(\u001b[0m\u001b[0mvalues\u001b[0m\u001b[0;34m,\u001b[0m \u001b[0mname\u001b[0m\u001b[0;34m=\u001b[0m\u001b[0mname\u001b[0m\u001b[0;34m,\u001b[0m \u001b[0mtz\u001b[0m\u001b[0;34m=\u001b[0m\u001b[0mtz\u001b[0m\u001b[0;34m)\u001b[0m\u001b[0;34m\u001b[0m\u001b[0;34m\u001b[0m\u001b[0m\n",
      "\u001b[0;32mpandas/_libs/tslibs/conversion.pyx\u001b[0m in \u001b[0;36mpandas._libs.tslibs.conversion.datetime_to_datetime64\u001b[0;34m()\u001b[0m\n",
      "\u001b[0;31mTypeError\u001b[0m: Unrecognized value type: <class 'bool'>",
      "\nDuring handling of the above exception, another exception occurred:\n",
      "\u001b[0;31mValueError\u001b[0m                                Traceback (most recent call last)",
      "\u001b[0;32m<ipython-input-33-12539f95f00f>\u001b[0m in \u001b[0;36m<module>\u001b[0;34m\u001b[0m\n\u001b[0;32m----> 1\u001b[0;31m \u001b[0mdf_cases_recovered\u001b[0m \u001b[0;34m=\u001b[0m \u001b[0mpd\u001b[0m\u001b[0;34m.\u001b[0m\u001b[0mto_datetime\u001b[0m\u001b[0;34m(\u001b[0m\u001b[0mdf\u001b[0m\u001b[0;34m[\u001b[0m\u001b[0;34m'_conclusao'\u001b[0m\u001b[0;34m]\u001b[0m\u001b[0;34m.\u001b[0m\u001b[0misin\u001b[0m\u001b[0;34m(\u001b[0m\u001b[0;34m[\u001b[0m\u001b[0;34m'Recuperado'\u001b[0m\u001b[0;34m]\u001b[0m\u001b[0;34m)\u001b[0m\u001b[0;34m,\u001b[0m \u001b[0mformat\u001b[0m\u001b[0;34m=\u001b[0m\u001b[0;34m'%d/%m/%y'\u001b[0m\u001b[0;34m)\u001b[0m\u001b[0;34m\u001b[0m\u001b[0;34m\u001b[0m\u001b[0m\n\u001b[0m\u001b[1;32m      2\u001b[0m \u001b[0marray_dates\u001b[0m \u001b[0;34m=\u001b[0m \u001b[0mnp\u001b[0m\u001b[0;34m.\u001b[0m\u001b[0msort\u001b[0m\u001b[0;34m(\u001b[0m\u001b[0mdf_cases_recovered\u001b[0m\u001b[0;34m.\u001b[0m\u001b[0mdropna\u001b[0m\u001b[0;34m(\u001b[0m\u001b[0;34m)\u001b[0m\u001b[0;34m.\u001b[0m\u001b[0mdt\u001b[0m\u001b[0;34m.\u001b[0m\u001b[0mstrftime\u001b[0m\u001b[0;34m(\u001b[0m\u001b[0;34m\"%m/%d/%Y\"\u001b[0m\u001b[0;34m)\u001b[0m\u001b[0;34m)\u001b[0m\u001b[0;34m\u001b[0m\u001b[0;34m\u001b[0m\u001b[0m\n\u001b[1;32m      3\u001b[0m \u001b[0munique_elements\u001b[0m\u001b[0;34m,\u001b[0m \u001b[0mcounts_elements\u001b[0m \u001b[0;34m=\u001b[0m \u001b[0mnp\u001b[0m\u001b[0;34m.\u001b[0m\u001b[0munique\u001b[0m\u001b[0;34m(\u001b[0m\u001b[0marray_dates\u001b[0m\u001b[0;34m,\u001b[0m \u001b[0mreturn_counts\u001b[0m\u001b[0;34m=\u001b[0m\u001b[0;32mTrue\u001b[0m\u001b[0;34m)\u001b[0m\u001b[0;34m\u001b[0m\u001b[0;34m\u001b[0m\u001b[0m\n\u001b[1;32m      4\u001b[0m \u001b[0mresult\u001b[0m \u001b[0;34m=\u001b[0m \u001b[0mnp\u001b[0m\u001b[0;34m.\u001b[0m\u001b[0masarray\u001b[0m\u001b[0;34m(\u001b[0m\u001b[0;34m(\u001b[0m\u001b[0munique_elements\u001b[0m\u001b[0;34m[\u001b[0m\u001b[0;34m:\u001b[0m\u001b[0;34m:\u001b[0m\u001b[0;34m-\u001b[0m\u001b[0;36m1\u001b[0m\u001b[0;34m]\u001b[0m\u001b[0;34m,\u001b[0m \u001b[0mcounts_elements\u001b[0m\u001b[0;34m[\u001b[0m\u001b[0;34m:\u001b[0m\u001b[0;34m:\u001b[0m\u001b[0;34m-\u001b[0m\u001b[0;36m1\u001b[0m\u001b[0;34m]\u001b[0m\u001b[0;34m)\u001b[0m\u001b[0;34m)\u001b[0m\u001b[0;34m\u001b[0m\u001b[0;34m\u001b[0m\u001b[0m\n\u001b[1;32m      5\u001b[0m \u001b[0mlast_ten_days_dates\u001b[0m \u001b[0;34m=\u001b[0m \u001b[0mresult\u001b[0m\u001b[0;34m[\u001b[0m\u001b[0;36m0\u001b[0m\u001b[0;34m]\u001b[0m\u001b[0;34m[\u001b[0m\u001b[0;34m:\u001b[0m\u001b[0;36m10\u001b[0m\u001b[0;34m]\u001b[0m\u001b[0;34m[\u001b[0m\u001b[0;34m:\u001b[0m\u001b[0;34m:\u001b[0m\u001b[0;34m-\u001b[0m\u001b[0;36m1\u001b[0m\u001b[0;34m]\u001b[0m\u001b[0;34m\u001b[0m\u001b[0;34m\u001b[0m\u001b[0m\n",
      "\u001b[0;32m~/anaconda3/lib/python3.7/site-packages/pandas/core/tools/datetimes.py\u001b[0m in \u001b[0;36mto_datetime\u001b[0;34m(arg, errors, dayfirst, yearfirst, utc, box, format, exact, unit, infer_datetime_format, origin, cache)\u001b[0m\n\u001b[1;32m    590\u001b[0m         \u001b[0;32melse\u001b[0m\u001b[0;34m:\u001b[0m\u001b[0;34m\u001b[0m\u001b[0;34m\u001b[0m\u001b[0m\n\u001b[1;32m    591\u001b[0m             \u001b[0;32mfrom\u001b[0m \u001b[0mpandas\u001b[0m \u001b[0;32mimport\u001b[0m \u001b[0mSeries\u001b[0m\u001b[0;34m\u001b[0m\u001b[0;34m\u001b[0m\u001b[0m\n\u001b[0;32m--> 592\u001b[0;31m             \u001b[0mvalues\u001b[0m \u001b[0;34m=\u001b[0m \u001b[0mconvert_listlike\u001b[0m\u001b[0;34m(\u001b[0m\u001b[0marg\u001b[0m\u001b[0;34m.\u001b[0m\u001b[0m_values\u001b[0m\u001b[0;34m,\u001b[0m \u001b[0;32mTrue\u001b[0m\u001b[0;34m,\u001b[0m \u001b[0mformat\u001b[0m\u001b[0;34m)\u001b[0m\u001b[0;34m\u001b[0m\u001b[0;34m\u001b[0m\u001b[0m\n\u001b[0m\u001b[1;32m    593\u001b[0m             \u001b[0mresult\u001b[0m \u001b[0;34m=\u001b[0m \u001b[0mSeries\u001b[0m\u001b[0;34m(\u001b[0m\u001b[0mvalues\u001b[0m\u001b[0;34m,\u001b[0m \u001b[0mindex\u001b[0m\u001b[0;34m=\u001b[0m\u001b[0marg\u001b[0m\u001b[0;34m.\u001b[0m\u001b[0mindex\u001b[0m\u001b[0;34m,\u001b[0m \u001b[0mname\u001b[0m\u001b[0;34m=\u001b[0m\u001b[0marg\u001b[0m\u001b[0;34m.\u001b[0m\u001b[0mname\u001b[0m\u001b[0;34m)\u001b[0m\u001b[0;34m\u001b[0m\u001b[0;34m\u001b[0m\u001b[0m\n\u001b[1;32m    594\u001b[0m     \u001b[0;32melif\u001b[0m \u001b[0misinstance\u001b[0m\u001b[0;34m(\u001b[0m\u001b[0marg\u001b[0m\u001b[0;34m,\u001b[0m \u001b[0;34m(\u001b[0m\u001b[0mABCDataFrame\u001b[0m\u001b[0;34m,\u001b[0m \u001b[0mcompat\u001b[0m\u001b[0;34m.\u001b[0m\u001b[0mMutableMapping\u001b[0m\u001b[0;34m)\u001b[0m\u001b[0;34m)\u001b[0m\u001b[0;34m:\u001b[0m\u001b[0;34m\u001b[0m\u001b[0;34m\u001b[0m\u001b[0m\n",
      "\u001b[0;32m~/anaconda3/lib/python3.7/site-packages/pandas/core/tools/datetimes.py\u001b[0m in \u001b[0;36m_convert_listlike_datetimes\u001b[0;34m(arg, box, format, name, tz, unit, errors, infer_datetime_format, dayfirst, yearfirst, exact)\u001b[0m\n\u001b[1;32m    292\u001b[0m                 \u001b[0;32mreturn\u001b[0m \u001b[0mDatetimeIndex\u001b[0m\u001b[0;34m.\u001b[0m\u001b[0m_simple_new\u001b[0m\u001b[0;34m(\u001b[0m\u001b[0mvalues\u001b[0m\u001b[0;34m,\u001b[0m \u001b[0mname\u001b[0m\u001b[0;34m=\u001b[0m\u001b[0mname\u001b[0m\u001b[0;34m,\u001b[0m \u001b[0mtz\u001b[0m\u001b[0;34m=\u001b[0m\u001b[0mtz\u001b[0m\u001b[0;34m)\u001b[0m\u001b[0;34m\u001b[0m\u001b[0;34m\u001b[0m\u001b[0m\n\u001b[1;32m    293\u001b[0m             \u001b[0;32mexcept\u001b[0m \u001b[0;34m(\u001b[0m\u001b[0mValueError\u001b[0m\u001b[0;34m,\u001b[0m \u001b[0mTypeError\u001b[0m\u001b[0;34m)\u001b[0m\u001b[0;34m:\u001b[0m\u001b[0;34m\u001b[0m\u001b[0;34m\u001b[0m\u001b[0m\n\u001b[0;32m--> 294\u001b[0;31m                 \u001b[0;32mraise\u001b[0m \u001b[0me\u001b[0m\u001b[0;34m\u001b[0m\u001b[0;34m\u001b[0m\u001b[0m\n\u001b[0m\u001b[1;32m    295\u001b[0m \u001b[0;34m\u001b[0m\u001b[0m\n\u001b[1;32m    296\u001b[0m     \u001b[0;32mif\u001b[0m \u001b[0mresult\u001b[0m \u001b[0;32mis\u001b[0m \u001b[0;32mNone\u001b[0m\u001b[0;34m:\u001b[0m\u001b[0;34m\u001b[0m\u001b[0;34m\u001b[0m\u001b[0m\n",
      "\u001b[0;32m~/anaconda3/lib/python3.7/site-packages/pandas/core/tools/datetimes.py\u001b[0m in \u001b[0;36m_convert_listlike_datetimes\u001b[0;34m(arg, box, format, name, tz, unit, errors, infer_datetime_format, dayfirst, yearfirst, exact)\u001b[0m\n\u001b[1;32m    259\u001b[0m                 \u001b[0;32mtry\u001b[0m\u001b[0;34m:\u001b[0m\u001b[0;34m\u001b[0m\u001b[0;34m\u001b[0m\u001b[0m\n\u001b[1;32m    260\u001b[0m                     result, timezones = array_strptime(\n\u001b[0;32m--> 261\u001b[0;31m                         arg, format, exact=exact, errors=errors)\n\u001b[0m\u001b[1;32m    262\u001b[0m                     \u001b[0;32mif\u001b[0m \u001b[0;34m'%Z'\u001b[0m \u001b[0;32min\u001b[0m \u001b[0mformat\u001b[0m \u001b[0;32mor\u001b[0m \u001b[0;34m'%z'\u001b[0m \u001b[0;32min\u001b[0m \u001b[0mformat\u001b[0m\u001b[0;34m:\u001b[0m\u001b[0;34m\u001b[0m\u001b[0;34m\u001b[0m\u001b[0m\n\u001b[1;32m    263\u001b[0m                         return _return_parsed_timezone_results(\n",
      "\u001b[0;32mpandas/_libs/tslibs/strptime.pyx\u001b[0m in \u001b[0;36mpandas._libs.tslibs.strptime.array_strptime\u001b[0;34m()\u001b[0m\n",
      "\u001b[0;31mValueError\u001b[0m: time data False does not match format '%d/%m/%y' (match)"
     ]
    }
   ],
   "source": []
  },
  {
   "cell_type": "code",
   "execution_count": 29,
   "metadata": {},
   "outputs": [
    {
     "name": "stdout",
     "output_type": "stream",
     "text": [
      "_idade                  float64\n",
      "_faixa etária            object\n",
      "_sexo                    object\n",
      "_bairro                  object\n",
      "_classificacao           object\n",
      "_comorb_renal            object\n",
      "_comorb_diabetes         object\n",
      "_comorb_imuno            object\n",
      "_comorb_cardio           object\n",
      "_conclusao               object\n",
      "_dt_notificacao          object\n",
      "_taxa                    object\n",
      "_dt_evolucao             object\n",
      "_raca                    object\n",
      "_dt_sintomas             object\n",
      "_criterio                object\n",
      "_tipo_teste              object\n",
      "_sintoma_garganta        object\n",
      "_sintoma_dispneia        object\n",
      "_sintoma_febre           object\n",
      "_sintoma_tosse           object\n",
      "_sintoma_outros          object\n",
      "_etnia                   object\n",
      "_profiss_saude           object\n",
      "_srag                    object\n",
      "_se_notificacao         float64\n",
      "_distrito                object\n",
      "_bairro_mapa             object\n",
      "_comorb_respiratoria     object\n",
      "_comorb_cromossomica     object\n",
      "_comorb_hepatica         object\n",
      "_comorb_neurologica      object\n",
      "_comorb_hemato           object\n",
      "_comorb_obessidade       object\n",
      "_origem                  object\n",
      "_evolução                object\n",
      "dtype: object\n"
     ]
    }
   ],
   "source": [
    "print(df.dtypes)"
   ]
  },
  {
   "cell_type": "code",
   "execution_count": null,
   "metadata": {},
   "outputs": [],
   "source": []
  }
 ],
 "metadata": {
  "kernelspec": {
   "display_name": "Python 3",
   "language": "python",
   "name": "python3"
  },
  "language_info": {
   "codemirror_mode": {
    "name": "ipython",
    "version": 3
   },
   "file_extension": ".py",
   "mimetype": "text/x-python",
   "name": "python",
   "nbconvert_exporter": "python",
   "pygments_lexer": "ipython3",
   "version": "3.7.3"
  }
 },
 "nbformat": 4,
 "nbformat_minor": 2
}
