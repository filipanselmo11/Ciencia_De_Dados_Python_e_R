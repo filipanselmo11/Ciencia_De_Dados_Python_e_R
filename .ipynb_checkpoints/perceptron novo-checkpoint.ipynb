{
 "cells": [
  {
   "cell_type": "code",
   "execution_count": 1,
   "metadata": {},
   "outputs": [],
   "source": [
    "import numpy as np\n",
    "import random\n",
    "import copy"
   ]
  },
  {
   "cell_type": "code",
   "execution_count": 6,
   "metadata": {},
   "outputs": [],
   "source": [
    "class Perceptron:\n",
    "    \n",
    "    def __init__(self, amostras, saidas, taxa_aprendizado=0.1,\n",
    "                    epocas=1000, limiar=-1):\n",
    "        self.amostras = amostras\n",
    "        self.saidas = saidas\n",
    "        self.taxa_aprendizado = taxa_aprendizado\n",
    "        self.epocas = epocas\n",
    "        self.limiar = limiar\n",
    "        self.num_amostras = len(amostras)\n",
    "        self.num_amostra = len(amostras[0])\n",
    "        self.pesos = []\n",
    "        \n",
    "    def treinar(self):\n",
    "        for amostra in self.amostras:\n",
    "            amostra.insert(0, -1)\n",
    "            \n",
    "        for i in range(self.num_amostra):\n",
    "            self.pesos.append(random.random())\n",
    "        \n",
    "        self.pesos.insert(0, self.limiar)\n",
    "        \n",
    "        num_epocas = 0\n",
    "        \n",
    "        while(True):\n",
    "            \n",
    "            erro = False\n",
    "            \n",
    "            for i in range(self.num_amostras):\n",
    "                \n",
    "                u = 0\n",
    "                \n",
    "                for j in range(self.num_amostra + 1):\n",
    "                    u += self.pesos[j] * self.amostras[i][j]\n",
    "                \n",
    "                y = self.sinal(u)\n",
    "                \n",
    "                if y != self.saidas[i]:\n",
    "                    erro_aux = self.saidas[i] - y\n",
    "                    \n",
    "                    for j in range(self.num_amostra + 1):\n",
    "                        self.pesos[j] = self.pesos[j] + self.taxa_aprendizado * erro_aux * self.amostras[i][j]\n",
    "                    \n",
    "                    erro = True\n",
    "                    \n",
    "            num_epocas += 1\n",
    "            \n",
    "            print(\"Época \",num_epocas)\n",
    "            \n",
    "            if num_epocas > self.epocas or not erro:\n",
    "                break\n",
    "                \n",
    "    def testar(self, amostra, classe1, classe2):\n",
    "        \n",
    "            amostra.insert(0, -1)\n",
    "            \n",
    "            u = 0\n",
    "            \n",
    "            for i in range(self.num_amostra + 1):\n",
    "                u += self.pesos[i] * amostra[i]\n",
    "            y = self.sinal(u)\n",
    "            \n",
    "            if y == -1:\n",
    "                print('A amostra pertence a classe %s' % classe1)\n",
    "            else:\n",
    "                print('A amostra pertence a classe %s' % classe2)\n",
    "                \n",
    "    def degrau(self, u):\n",
    "        return 1 if u >= 0 else 0\n",
    "    \n",
    "    def sinal(self, u):\n",
    "        return 1 if u >= 0 else -1\n",
    "                    \n",
    "                    "
   ]
  },
  {
   "cell_type": "code",
   "execution_count": 7,
   "metadata": {},
   "outputs": [
    {
     "name": "stdout",
     "output_type": "stream",
     "text": [
      "\n",
      "A ou B?\n",
      "\n",
      "A amostra pertence a classe B\n",
      "A amostra pertence a classe A\n",
      "A amostra pertence a classe A\n",
      "A amostra pertence a classe B\n"
     ]
    }
   ],
   "source": [
    "print('\\nA ou B?\\n')\n",
    "\n",
    "amostras = [[0.1, 0.4, 0.7], [0.3, 0.7, 0.2],\n",
    "               [0.6, 0.9, 0.8], [0.5, 0.7, 0.1]]\n",
    "\n",
    "saidas = [1, -1, -1, 1]\n",
    "\n",
    "testes = copy.deepcopy(amostras)\n",
    "\n",
    "rede = Perceptron(amostras=amostras, saidas = saidas,\n",
    "                                   taxa_aprendizado=0.1, epocas=1000)\n",
    "\n",
    "rede.treinar()\n",
    "\n",
    "for teste in testes:\n",
    "    rede.testar(teste, 'A', 'B')"
   ]
  },
  {
   "cell_type": "code",
   "execution_count": null,
   "metadata": {},
   "outputs": [],
   "source": []
  }
 ],
 "metadata": {
  "kernelspec": {
   "display_name": "Python 3",
   "language": "python",
   "name": "python3"
  },
  "language_info": {
   "codemirror_mode": {
    "name": "ipython",
    "version": 3
   },
   "file_extension": ".py",
   "mimetype": "text/x-python",
   "name": "python",
   "nbconvert_exporter": "python",
   "pygments_lexer": "ipython3",
   "version": "3.7.3"
  }
 },
 "nbformat": 4,
 "nbformat_minor": 2
}
