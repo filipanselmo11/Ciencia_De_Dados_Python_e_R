{
 "cells": [
  {
   "cell_type": "code",
   "execution_count": 1,
   "metadata": {},
   "outputs": [],
   "source": [
    "import pandas as pd\n",
    "import numpy as np\n",
    "from sklearn.model_selection import train_test_split\n",
    "from sklearn.linear_model import LinearRegression\n",
    "from sklearn.neighbors import KNeighborsRegressor\n",
    "from sklearn.metrics import mean_squared_error, r2_score\n",
    "import matplotlib.pyplot as plt"
   ]
  },
  {
   "cell_type": "code",
   "execution_count": 2,
   "metadata": {},
   "outputs": [
    {
     "data": {
      "text/html": [
       "<div>\n",
       "<style scoped>\n",
       "    .dataframe tbody tr th:only-of-type {\n",
       "        vertical-align: middle;\n",
       "    }\n",
       "\n",
       "    .dataframe tbody tr th {\n",
       "        vertical-align: top;\n",
       "    }\n",
       "\n",
       "    .dataframe thead th {\n",
       "        text-align: right;\n",
       "    }\n",
       "</style>\n",
       "<table border=\"1\" class=\"dataframe\">\n",
       "  <thead>\n",
       "    <tr style=\"text-align: right;\">\n",
       "      <th></th>\n",
       "      <th>mpg</th>\n",
       "      <th>cylinders</th>\n",
       "      <th>displacement</th>\n",
       "      <th>horsepower</th>\n",
       "      <th>weight</th>\n",
       "      <th>acceleration</th>\n",
       "      <th>modelyear</th>\n",
       "      <th>origin</th>\n",
       "      <th>name</th>\n",
       "    </tr>\n",
       "  </thead>\n",
       "  <tbody>\n",
       "    <tr>\n",
       "      <th>0</th>\n",
       "      <td>18.0</td>\n",
       "      <td>8.0</td>\n",
       "      <td>307.0</td>\n",
       "      <td>130.0</td>\n",
       "      <td>3504.0</td>\n",
       "      <td>12.0</td>\n",
       "      <td>70.0</td>\n",
       "      <td>1.0</td>\n",
       "      <td>chevrolet chevelle malibu</td>\n",
       "    </tr>\n",
       "    <tr>\n",
       "      <th>1</th>\n",
       "      <td>15.0</td>\n",
       "      <td>8.0</td>\n",
       "      <td>350.0</td>\n",
       "      <td>165.0</td>\n",
       "      <td>3693.0</td>\n",
       "      <td>11.5</td>\n",
       "      <td>70.0</td>\n",
       "      <td>1.0</td>\n",
       "      <td>buick skylark 320</td>\n",
       "    </tr>\n",
       "    <tr>\n",
       "      <th>2</th>\n",
       "      <td>18.0</td>\n",
       "      <td>8.0</td>\n",
       "      <td>318.0</td>\n",
       "      <td>150.0</td>\n",
       "      <td>3436.0</td>\n",
       "      <td>11.0</td>\n",
       "      <td>70.0</td>\n",
       "      <td>1.0</td>\n",
       "      <td>plymouth satellite</td>\n",
       "    </tr>\n",
       "    <tr>\n",
       "      <th>3</th>\n",
       "      <td>16.0</td>\n",
       "      <td>8.0</td>\n",
       "      <td>304.0</td>\n",
       "      <td>150.0</td>\n",
       "      <td>3433.0</td>\n",
       "      <td>12.0</td>\n",
       "      <td>70.0</td>\n",
       "      <td>1.0</td>\n",
       "      <td>amc rebel sst</td>\n",
       "    </tr>\n",
       "    <tr>\n",
       "      <th>4</th>\n",
       "      <td>17.0</td>\n",
       "      <td>8.0</td>\n",
       "      <td>302.0</td>\n",
       "      <td>140.0</td>\n",
       "      <td>3449.0</td>\n",
       "      <td>10.5</td>\n",
       "      <td>70.0</td>\n",
       "      <td>1.0</td>\n",
       "      <td>ford torino</td>\n",
       "    </tr>\n",
       "  </tbody>\n",
       "</table>\n",
       "</div>"
      ],
      "text/plain": [
       "    mpg  cylinders  displacement  horsepower  weight  acceleration  modelyear  \\\n",
       "0  18.0        8.0         307.0       130.0  3504.0          12.0       70.0   \n",
       "1  15.0        8.0         350.0       165.0  3693.0          11.5       70.0   \n",
       "2  18.0        8.0         318.0       150.0  3436.0          11.0       70.0   \n",
       "3  16.0        8.0         304.0       150.0  3433.0          12.0       70.0   \n",
       "4  17.0        8.0         302.0       140.0  3449.0          10.5       70.0   \n",
       "\n",
       "   origin                       name  \n",
       "0     1.0  chevrolet chevelle malibu  \n",
       "1     1.0          buick skylark 320  \n",
       "2     1.0         plymouth satellite  \n",
       "3     1.0              amc rebel sst  \n",
       "4     1.0                ford torino  "
      ]
     },
     "execution_count": 2,
     "metadata": {},
     "output_type": "execute_result"
    }
   ],
   "source": [
    "df = pd.read_csv(\"autompg.csv\",sep = \";\")\n",
    "df.head()"
   ]
  },
  {
   "cell_type": "code",
   "execution_count": 3,
   "metadata": {},
   "outputs": [
    {
     "data": {
      "text/plain": [
       "406"
      ]
     },
     "execution_count": 3,
     "metadata": {},
     "output_type": "execute_result"
    }
   ],
   "source": [
    "#1 Quantos exemplos há no dataset?\n",
    "len(df)"
   ]
  },
  {
   "cell_type": "code",
   "execution_count": 4,
   "metadata": {},
   "outputs": [
    {
     "data": {
      "text/plain": [
       "Index(['mpg', 'cylinders', 'displacement', 'horsepower', 'weight',\n",
       "       'acceleration', 'modelyear', 'origin', 'name'],\n",
       "      dtype='object')"
      ]
     },
     "execution_count": 4,
     "metadata": {},
     "output_type": "execute_result"
    }
   ],
   "source": [
    "#2 Quais os atributos existentes no dataset?\n",
    "df.columns"
   ]
  },
  {
   "cell_type": "code",
   "execution_count": 5,
   "metadata": {},
   "outputs": [
    {
     "data": {
      "text/plain": [
       "0              chevrolet chevelle malibu\n",
       "1                      buick skylark 320\n",
       "2                     plymouth satellite\n",
       "3                          amc rebel sst\n",
       "4                            ford torino\n",
       "5                       ford galaxie 500\n",
       "6                       chevrolet impala\n",
       "7                      plymouth fury iii\n",
       "8                       pontiac catalina\n",
       "9                     amc ambassador dpl\n",
       "10                  citroen ds-21 pallas\n",
       "11      chevrolet chevelle concours (sw)\n",
       "12                      ford torino (sw)\n",
       "13               plymouth satellite (sw)\n",
       "14                    amc rebel sst (sw)\n",
       "15                   dodge challenger se\n",
       "16                    plymouth 'cuda 340\n",
       "17                 ford mustang boss 302\n",
       "18                 chevrolet monte carlo\n",
       "19               buick estate wagon (sw)\n",
       "20                 toyota corona mark ii\n",
       "21                       plymouth duster\n",
       "22                            amc hornet\n",
       "23                         ford maverick\n",
       "24                          datsun pl510\n",
       "25          volkswagen 1131 deluxe sedan\n",
       "26                           peugeot 504\n",
       "27                           audi 100 ls\n",
       "28                              saab 99e\n",
       "29                              bmw 2002\n",
       "                     ...                \n",
       "376             chevrolet cavalier wagon\n",
       "377            chevrolet cavalier 2-door\n",
       "378           pontiac j2000 se hatchback\n",
       "379                       dodge aries se\n",
       "380                      pontiac phoenix\n",
       "381                 ford fairmont futura\n",
       "382                       amc concord dl\n",
       "383                  volkswagen rabbit l\n",
       "384                   mazda glc custom l\n",
       "385                     mazda glc custom\n",
       "386               plymouth horizon miser\n",
       "387                       mercury lynx l\n",
       "388                     nissan stanza xe\n",
       "389                         honda accord\n",
       "390                       toyota corolla\n",
       "391                          honda civic\n",
       "392                   honda civic (auto)\n",
       "393                        datsun 310 gx\n",
       "394                buick century limited\n",
       "395    oldsmobile cutlass ciera (diesel)\n",
       "396           chrysler lebaron medallion\n",
       "397                       ford granada l\n",
       "398                     toyota celica gt\n",
       "399                    dodge charger 2.2\n",
       "400                     chevrolet camaro\n",
       "401                      ford mustang gl\n",
       "402                            vw pickup\n",
       "403                        dodge rampage\n",
       "404                          ford ranger\n",
       "405                           chevy s-10\n",
       "Name: name, Length: 406, dtype: object"
      ]
     },
     "execution_count": 5,
     "metadata": {},
     "output_type": "execute_result"
    }
   ],
   "source": [
    "#3 Quais os nomes dos carros existentes no dataset?\n",
    "df['name']"
   ]
  },
  {
   "cell_type": "code",
   "execution_count": 6,
   "metadata": {},
   "outputs": [
    {
     "data": {
      "text/html": [
       "<div>\n",
       "<style scoped>\n",
       "    .dataframe tbody tr th:only-of-type {\n",
       "        vertical-align: middle;\n",
       "    }\n",
       "\n",
       "    .dataframe tbody tr th {\n",
       "        vertical-align: top;\n",
       "    }\n",
       "\n",
       "    .dataframe thead th {\n",
       "        text-align: right;\n",
       "    }\n",
       "</style>\n",
       "<table border=\"1\" class=\"dataframe\">\n",
       "  <thead>\n",
       "    <tr style=\"text-align: right;\">\n",
       "      <th></th>\n",
       "      <th>mpg</th>\n",
       "      <th>cylinders</th>\n",
       "      <th>displacement</th>\n",
       "      <th>horsepower</th>\n",
       "      <th>weight</th>\n",
       "      <th>acceleration</th>\n",
       "      <th>modelyear</th>\n",
       "      <th>origin</th>\n",
       "      <th>name</th>\n",
       "    </tr>\n",
       "  </thead>\n",
       "  <tbody>\n",
       "    <tr>\n",
       "      <th>400</th>\n",
       "      <td>27.0</td>\n",
       "      <td>4.0</td>\n",
       "      <td>151.0</td>\n",
       "      <td>90.0</td>\n",
       "      <td>2950.0</td>\n",
       "      <td>17.3</td>\n",
       "      <td>82.0</td>\n",
       "      <td>1.0</td>\n",
       "      <td>chevrolet camaro</td>\n",
       "    </tr>\n",
       "  </tbody>\n",
       "</table>\n",
       "</div>"
      ],
      "text/plain": [
       "      mpg  cylinders  displacement  horsepower  weight  acceleration  \\\n",
       "400  27.0        4.0         151.0        90.0  2950.0          17.3   \n",
       "\n",
       "     modelyear  origin              name  \n",
       "400       82.0     1.0  chevrolet camaro  "
      ]
     },
     "execution_count": 6,
     "metadata": {},
     "output_type": "execute_result"
    }
   ],
   "source": [
    "#4 Quais as características do 'chevrolet camaro'?\n",
    "df.loc[df['name'] == \"chevrolet camaro\"]"
   ]
  },
  {
   "cell_type": "code",
   "execution_count": 7,
   "metadata": {},
   "outputs": [
    {
     "data": {
      "text/plain": [
       "23.514572864321615"
      ]
     },
     "execution_count": 7,
     "metadata": {},
     "output_type": "execute_result"
    }
   ],
   "source": [
    "#5 Qual a média de consumo, em galões por litro, dos carros existentes no dataset?\n",
    "np.mean(df['mpg'])"
   ]
  },
  {
   "cell_type": "code",
   "execution_count": 8,
   "metadata": {},
   "outputs": [],
   "source": [
    "#Preparação dos dados\n",
    "#1 Existem exemplos com dados faltantes. Para fins de simplificação, elimine-os do dataset.\n",
    "df.dropna(inplace=True)"
   ]
  },
  {
   "cell_type": "code",
   "execution_count": 9,
   "metadata": {},
   "outputs": [
    {
     "data": {
      "text/html": [
       "<div>\n",
       "<style scoped>\n",
       "    .dataframe tbody tr th:only-of-type {\n",
       "        vertical-align: middle;\n",
       "    }\n",
       "\n",
       "    .dataframe tbody tr th {\n",
       "        vertical-align: top;\n",
       "    }\n",
       "\n",
       "    .dataframe thead th {\n",
       "        text-align: right;\n",
       "    }\n",
       "</style>\n",
       "<table border=\"1\" class=\"dataframe\">\n",
       "  <thead>\n",
       "    <tr style=\"text-align: right;\">\n",
       "      <th></th>\n",
       "      <th>mpg</th>\n",
       "      <th>cylinders</th>\n",
       "      <th>displacement</th>\n",
       "      <th>horsepower</th>\n",
       "      <th>weight</th>\n",
       "      <th>acceleration</th>\n",
       "      <th>modelyear</th>\n",
       "      <th>origin</th>\n",
       "    </tr>\n",
       "  </thead>\n",
       "  <tbody>\n",
       "    <tr>\n",
       "      <th>0</th>\n",
       "      <td>18.0</td>\n",
       "      <td>8.0</td>\n",
       "      <td>307.0</td>\n",
       "      <td>130.0</td>\n",
       "      <td>3504.0</td>\n",
       "      <td>12.0</td>\n",
       "      <td>70.0</td>\n",
       "      <td>1.0</td>\n",
       "    </tr>\n",
       "    <tr>\n",
       "      <th>1</th>\n",
       "      <td>15.0</td>\n",
       "      <td>8.0</td>\n",
       "      <td>350.0</td>\n",
       "      <td>165.0</td>\n",
       "      <td>3693.0</td>\n",
       "      <td>11.5</td>\n",
       "      <td>70.0</td>\n",
       "      <td>1.0</td>\n",
       "    </tr>\n",
       "    <tr>\n",
       "      <th>2</th>\n",
       "      <td>18.0</td>\n",
       "      <td>8.0</td>\n",
       "      <td>318.0</td>\n",
       "      <td>150.0</td>\n",
       "      <td>3436.0</td>\n",
       "      <td>11.0</td>\n",
       "      <td>70.0</td>\n",
       "      <td>1.0</td>\n",
       "    </tr>\n",
       "    <tr>\n",
       "      <th>3</th>\n",
       "      <td>16.0</td>\n",
       "      <td>8.0</td>\n",
       "      <td>304.0</td>\n",
       "      <td>150.0</td>\n",
       "      <td>3433.0</td>\n",
       "      <td>12.0</td>\n",
       "      <td>70.0</td>\n",
       "      <td>1.0</td>\n",
       "    </tr>\n",
       "    <tr>\n",
       "      <th>4</th>\n",
       "      <td>17.0</td>\n",
       "      <td>8.0</td>\n",
       "      <td>302.0</td>\n",
       "      <td>140.0</td>\n",
       "      <td>3449.0</td>\n",
       "      <td>10.5</td>\n",
       "      <td>70.0</td>\n",
       "      <td>1.0</td>\n",
       "    </tr>\n",
       "  </tbody>\n",
       "</table>\n",
       "</div>"
      ],
      "text/plain": [
       "    mpg  cylinders  displacement  horsepower  weight  acceleration  modelyear  \\\n",
       "0  18.0        8.0         307.0       130.0  3504.0          12.0       70.0   \n",
       "1  15.0        8.0         350.0       165.0  3693.0          11.5       70.0   \n",
       "2  18.0        8.0         318.0       150.0  3436.0          11.0       70.0   \n",
       "3  16.0        8.0         304.0       150.0  3433.0          12.0       70.0   \n",
       "4  17.0        8.0         302.0       140.0  3449.0          10.5       70.0   \n",
       "\n",
       "   origin  \n",
       "0     1.0  \n",
       "1     1.0  \n",
       "2     1.0  \n",
       "3     1.0  \n",
       "4     1.0  "
      ]
     },
     "execution_count": 9,
     "metadata": {},
     "output_type": "execute_result"
    }
   ],
   "source": [
    "#2 Exclua a coluna com os nomes dos carros\n",
    "df.drop(['name'],axis = 1,inplace=True)\n",
    "df.head()"
   ]
  },
  {
   "cell_type": "code",
   "execution_count": 10,
   "metadata": {},
   "outputs": [],
   "source": [
    "#3 Converta mpg para km/l sabendo que: 1 mpg = 0.425 km/l. Utilize apenas duas casas decimais nesta conversão.\n",
    "kml = [round(x*0.425,2) for x in df[\"mpg\"]]"
   ]
  },
  {
   "cell_type": "code",
   "execution_count": 11,
   "metadata": {},
   "outputs": [
    {
     "data": {
      "text/html": [
       "<div>\n",
       "<style scoped>\n",
       "    .dataframe tbody tr th:only-of-type {\n",
       "        vertical-align: middle;\n",
       "    }\n",
       "\n",
       "    .dataframe tbody tr th {\n",
       "        vertical-align: top;\n",
       "    }\n",
       "\n",
       "    .dataframe thead th {\n",
       "        text-align: right;\n",
       "    }\n",
       "</style>\n",
       "<table border=\"1\" class=\"dataframe\">\n",
       "  <thead>\n",
       "    <tr style=\"text-align: right;\">\n",
       "      <th></th>\n",
       "      <th>cylinders</th>\n",
       "      <th>displacement</th>\n",
       "      <th>horsepower</th>\n",
       "      <th>weight</th>\n",
       "      <th>acceleration</th>\n",
       "      <th>modelyear</th>\n",
       "      <th>origin</th>\n",
       "      <th>kml</th>\n",
       "    </tr>\n",
       "  </thead>\n",
       "  <tbody>\n",
       "    <tr>\n",
       "      <th>0</th>\n",
       "      <td>8.0</td>\n",
       "      <td>307.0</td>\n",
       "      <td>130.0</td>\n",
       "      <td>3504.0</td>\n",
       "      <td>12.0</td>\n",
       "      <td>70.0</td>\n",
       "      <td>1.0</td>\n",
       "      <td>7.65</td>\n",
       "    </tr>\n",
       "    <tr>\n",
       "      <th>1</th>\n",
       "      <td>8.0</td>\n",
       "      <td>350.0</td>\n",
       "      <td>165.0</td>\n",
       "      <td>3693.0</td>\n",
       "      <td>11.5</td>\n",
       "      <td>70.0</td>\n",
       "      <td>1.0</td>\n",
       "      <td>6.38</td>\n",
       "    </tr>\n",
       "    <tr>\n",
       "      <th>2</th>\n",
       "      <td>8.0</td>\n",
       "      <td>318.0</td>\n",
       "      <td>150.0</td>\n",
       "      <td>3436.0</td>\n",
       "      <td>11.0</td>\n",
       "      <td>70.0</td>\n",
       "      <td>1.0</td>\n",
       "      <td>7.65</td>\n",
       "    </tr>\n",
       "    <tr>\n",
       "      <th>3</th>\n",
       "      <td>8.0</td>\n",
       "      <td>304.0</td>\n",
       "      <td>150.0</td>\n",
       "      <td>3433.0</td>\n",
       "      <td>12.0</td>\n",
       "      <td>70.0</td>\n",
       "      <td>1.0</td>\n",
       "      <td>6.80</td>\n",
       "    </tr>\n",
       "    <tr>\n",
       "      <th>4</th>\n",
       "      <td>8.0</td>\n",
       "      <td>302.0</td>\n",
       "      <td>140.0</td>\n",
       "      <td>3449.0</td>\n",
       "      <td>10.5</td>\n",
       "      <td>70.0</td>\n",
       "      <td>1.0</td>\n",
       "      <td>7.22</td>\n",
       "    </tr>\n",
       "  </tbody>\n",
       "</table>\n",
       "</div>"
      ],
      "text/plain": [
       "   cylinders  displacement  horsepower  weight  acceleration  modelyear  \\\n",
       "0        8.0         307.0       130.0  3504.0          12.0       70.0   \n",
       "1        8.0         350.0       165.0  3693.0          11.5       70.0   \n",
       "2        8.0         318.0       150.0  3436.0          11.0       70.0   \n",
       "3        8.0         304.0       150.0  3433.0          12.0       70.0   \n",
       "4        8.0         302.0       140.0  3449.0          10.5       70.0   \n",
       "\n",
       "   origin   kml  \n",
       "0     1.0  7.65  \n",
       "1     1.0  6.38  \n",
       "2     1.0  7.65  \n",
       "3     1.0  6.80  \n",
       "4     1.0  7.22  "
      ]
     },
     "execution_count": 11,
     "metadata": {},
     "output_type": "execute_result"
    }
   ],
   "source": [
    "#4 Remova a coluna mpg e insira a coluna kml no dataset.\n",
    "df['kml'] = kml\n",
    "df.drop(['mpg'],axis = 1,inplace=True)\n",
    "df.head()"
   ]
  },
  {
   "cell_type": "code",
   "execution_count": 12,
   "metadata": {},
   "outputs": [],
   "source": [
    "#Organização dos dados para treinamento\n",
    "#1 Remova a coluna kml e atribua-a a uma variável Y\n",
    "Y = df['kml']\n",
    "df.drop([\"kml\"],axis = 1,inplace=True)"
   ]
  },
  {
   "cell_type": "code",
   "execution_count": 13,
   "metadata": {},
   "outputs": [
    {
     "data": {
      "text/html": [
       "<div>\n",
       "<style scoped>\n",
       "    .dataframe tbody tr th:only-of-type {\n",
       "        vertical-align: middle;\n",
       "    }\n",
       "\n",
       "    .dataframe tbody tr th {\n",
       "        vertical-align: top;\n",
       "    }\n",
       "\n",
       "    .dataframe thead th {\n",
       "        text-align: right;\n",
       "    }\n",
       "</style>\n",
       "<table border=\"1\" class=\"dataframe\">\n",
       "  <thead>\n",
       "    <tr style=\"text-align: right;\">\n",
       "      <th></th>\n",
       "      <th>cylinders</th>\n",
       "      <th>displacement</th>\n",
       "      <th>horsepower</th>\n",
       "      <th>weight</th>\n",
       "      <th>acceleration</th>\n",
       "      <th>modelyear</th>\n",
       "      <th>origin</th>\n",
       "    </tr>\n",
       "  </thead>\n",
       "  <tbody>\n",
       "    <tr>\n",
       "      <th>0</th>\n",
       "      <td>8.0</td>\n",
       "      <td>307.0</td>\n",
       "      <td>130.0</td>\n",
       "      <td>3504.0</td>\n",
       "      <td>12.0</td>\n",
       "      <td>70.0</td>\n",
       "      <td>1.0</td>\n",
       "    </tr>\n",
       "    <tr>\n",
       "      <th>1</th>\n",
       "      <td>8.0</td>\n",
       "      <td>350.0</td>\n",
       "      <td>165.0</td>\n",
       "      <td>3693.0</td>\n",
       "      <td>11.5</td>\n",
       "      <td>70.0</td>\n",
       "      <td>1.0</td>\n",
       "    </tr>\n",
       "    <tr>\n",
       "      <th>2</th>\n",
       "      <td>8.0</td>\n",
       "      <td>318.0</td>\n",
       "      <td>150.0</td>\n",
       "      <td>3436.0</td>\n",
       "      <td>11.0</td>\n",
       "      <td>70.0</td>\n",
       "      <td>1.0</td>\n",
       "    </tr>\n",
       "    <tr>\n",
       "      <th>3</th>\n",
       "      <td>8.0</td>\n",
       "      <td>304.0</td>\n",
       "      <td>150.0</td>\n",
       "      <td>3433.0</td>\n",
       "      <td>12.0</td>\n",
       "      <td>70.0</td>\n",
       "      <td>1.0</td>\n",
       "    </tr>\n",
       "    <tr>\n",
       "      <th>4</th>\n",
       "      <td>8.0</td>\n",
       "      <td>302.0</td>\n",
       "      <td>140.0</td>\n",
       "      <td>3449.0</td>\n",
       "      <td>10.5</td>\n",
       "      <td>70.0</td>\n",
       "      <td>1.0</td>\n",
       "    </tr>\n",
       "  </tbody>\n",
       "</table>\n",
       "</div>"
      ],
      "text/plain": [
       "   cylinders  displacement  horsepower  weight  acceleration  modelyear  \\\n",
       "0        8.0         307.0       130.0  3504.0          12.0       70.0   \n",
       "1        8.0         350.0       165.0  3693.0          11.5       70.0   \n",
       "2        8.0         318.0       150.0  3436.0          11.0       70.0   \n",
       "3        8.0         304.0       150.0  3433.0          12.0       70.0   \n",
       "4        8.0         302.0       140.0  3449.0          10.5       70.0   \n",
       "\n",
       "   origin  \n",
       "0     1.0  \n",
       "1     1.0  \n",
       "2     1.0  \n",
       "3     1.0  \n",
       "4     1.0  "
      ]
     },
     "execution_count": 13,
     "metadata": {},
     "output_type": "execute_result"
    }
   ],
   "source": [
    "#2 Atribua os demais valores do dataset a uma variável X\n",
    "X = df\n",
    "X.head()"
   ]
  },
  {
   "cell_type": "code",
   "execution_count": 14,
   "metadata": {},
   "outputs": [],
   "source": [
    "#3 Efetue uma partição holdout 70/30 com o sklearn\n",
    "X_train, X_test, Y_train, Y_test = train_test_split(X, Y, test_size=0.30)"
   ]
  },
  {
   "cell_type": "code",
   "execution_count": 15,
   "metadata": {},
   "outputs": [
    {
     "data": {
      "text/plain": [
       "LinearRegression(copy_X=True, fit_intercept=True, n_jobs=None, normalize=False)"
      ]
     },
     "execution_count": 15,
     "metadata": {},
     "output_type": "execute_result"
    }
   ],
   "source": [
    "#Treinamento de um modelo de regressão linear\n",
    "#1 Importe o modelo da biblioteca sklearn\n",
    "#2 Instancie o modelo com parâmetros padrão (default)\n",
    "#3 Execute o algoritmo de treinamento com os dados de treino\n",
    "\n",
    "regr = LinearRegression()\n",
    "regr.fit(X_train, Y_train)"
   ]
  },
  {
   "cell_type": "code",
   "execution_count": 16,
   "metadata": {},
   "outputs": [
    {
     "name": "stdout",
     "output_type": "stream",
     "text": [
      "[13.7197975] 14.03\n"
     ]
    }
   ],
   "source": [
    "#Teste do modelo\n",
    "#Vamos observar a saída do modelo para um exemplo individual existente nos dados de treino:\n",
    "#Atributos preditores: X_test[2:3]\n",
    "#Atributo alvo: Y_test.iloc[2]\n",
    "#Qual o resultado previsto para o modelo, dados estes atributos preditores?\n",
    "teste1 = X_test[2:3]\n",
    "resultado = regr.predict(teste1)\n",
    "print(resultado, Y_test.iloc[2])"
   ]
  },
  {
   "cell_type": "code",
   "execution_count": 17,
   "metadata": {},
   "outputs": [
    {
     "data": {
      "text/plain": [
       "1.8870592888213953"
      ]
     },
     "execution_count": 17,
     "metadata": {},
     "output_type": "execute_result"
    }
   ],
   "source": [
    "#Teste do modelo\n",
    "#Obtenha o erro médio quadrático para todos os dados de teste\n",
    "#Efetue a importação de mean_squared_error do pacote sklearn.metrics\n",
    "#Trata-se do somatório do quadrado das diferenças entre valores previstos pelo modelo e observados na prática\n",
    "#Quanto mais próximo de zero, melhor este resultado\n",
    "Y_predito = regr.predict(X_test)\n",
    "mse = mean_squared_error(Y_predito, Y_test)\n",
    "mse"
   ]
  },
  {
   "cell_type": "code",
   "execution_count": 18,
   "metadata": {},
   "outputs": [
    {
     "data": {
      "text/plain": [
       "0.8242600798156898"
      ]
     },
     "execution_count": 18,
     "metadata": {},
     "output_type": "execute_result"
    }
   ],
   "source": [
    "#Obtenha o r^2 para os dados de teste\n",
    "#Efetue a importação de r2_score do pacote sklearn.metrics\n",
    "#Trata-se de um valor no intervalo [0,1]\n",
    "#Quanto mais próximo de 1, melhor é o modelo\n",
    "r2 = r2_score(Y_predito, Y_test)\n",
    "r2"
   ]
  },
  {
   "cell_type": "code",
   "execution_count": 19,
   "metadata": {},
   "outputs": [
    {
     "data": {
      "text/plain": [
       "[3.554465185740532,\n",
       " 0.8423631978164712,\n",
       " 0.09622558969782789,\n",
       " 0.019477502547072437,\n",
       " 3.2981347716227885,\n",
       " 3.345085111719343,\n",
       " 1.565255152340554,\n",
       " 0.6904368283778355,\n",
       " 0.2706569883438231,\n",
       " 0.002727396156773829,\n",
       " 3.1390101321135147,\n",
       " 20.99723879859287,\n",
       " 3.854055334701753,\n",
       " 9.400081672769028,\n",
       " 1.8801855973463701,\n",
       " 0.00046508429166497434,\n",
       " 0.14921508876059342,\n",
       " 0.12788586352351897,\n",
       " 0.0003709293555609335,\n",
       " 4.124630498902022,\n",
       " 0.011758793533731143,\n",
       " 0.1197213500273835,\n",
       " 0.8901621747387002,\n",
       " 0.3024470752116511,\n",
       " 0.02785906658148454,\n",
       " 0.2552844528626757,\n",
       " 0.2992033556093068,\n",
       " 0.4388244148274713,\n",
       " 1.7269996728243573,\n",
       " 2.7768542187527143,\n",
       " 0.47802504673554347,\n",
       " 7.708708237055498,\n",
       " 0.04373559770251502,\n",
       " 1.8154422034244961,\n",
       " 0.9921208903798114,\n",
       " 1.0165299199416862,\n",
       " 0.005609713260418754,\n",
       " 0.5702921355241294,\n",
       " 2.311526437379455,\n",
       " 0.0027593218172163336,\n",
       " 2.6388313782754027,\n",
       " 0.048442709176794704,\n",
       " 0.02341299572652324,\n",
       " 1.1760019061558655,\n",
       " 3.878049935402019,\n",
       " 3.818387374253503,\n",
       " 1.623783144405624,\n",
       " 0.13417456972741307,\n",
       " 2.747527700971192,\n",
       " 0.8312283326687806,\n",
       " 2.4300538038106077e-05,\n",
       " 1.18358243449324,\n",
       " 1.8825778907711919,\n",
       " 0.2856307906663911,\n",
       " 0.1449061415057797,\n",
       " 0.5844355235125646,\n",
       " 0.5439690612835335,\n",
       " 0.32835908450752055,\n",
       " 0.006342278673031833,\n",
       " 1.9364628864022593,\n",
       " 2.268975900024688,\n",
       " 2.028242444549719,\n",
       " 3.609412220110633,\n",
       " 1.8574308169788276,\n",
       " 0.8918659867050798,\n",
       " 7.915093427745479,\n",
       " 1.978824029444804,\n",
       " 4.575590506314638,\n",
       " 0.44273435671533057,\n",
       " 10.288647285457897,\n",
       " 3.195150858997668,\n",
       " 0.13110466969221765,\n",
       " 0.17031092299934997,\n",
       " 0.03144601148252408,\n",
       " 15.35247845705771,\n",
       " 0.6578907914228708,\n",
       " 0.09647316133820899,\n",
       " 2.676520066389904,\n",
       " 3.99684903809878,\n",
       " 6.278143384139248,\n",
       " 0.18055289855746742,\n",
       " 0.032039449008229866,\n",
       " 0.5964875515011034,\n",
       " 6.420571888849258,\n",
       " 2.286270832537698,\n",
       " 0.9873069236988371,\n",
       " 0.3487029578142179,\n",
       " 0.8418993093507933,\n",
       " 0.01116693189645931,\n",
       " 1.9942281728819817,\n",
       " 2.8175623574786233,\n",
       " 5.5777258529862,\n",
       " 0.36656911650001484,\n",
       " 0.9297268448820254,\n",
       " 1.269867522064949,\n",
       " 0.38866403601410726,\n",
       " 3.0646443887287003,\n",
       " 0.8618450171745781,\n",
       " 0.8220009311396183,\n",
       " 0.6398407553975624,\n",
       " 0.14627344984582125,\n",
       " 0.0015873466342884964,\n",
       " 2.250949267834637,\n",
       " 2.2737226149146506,\n",
       " 0.3099469283209998,\n",
       " 2.246955995561523,\n",
       " 0.12110747195523837,\n",
       " 4.359545226699646,\n",
       " 1.262295449682846,\n",
       " 0.031681420044152954,\n",
       " 1.2914873950671322,\n",
       " 0.09122959985507156,\n",
       " 0.435302727392835,\n",
       " 0.3182198727286296,\n",
       " 0.001461176079729829,\n",
       " 1.464462374373895,\n",
       " 0.5028132322332854,\n",
       " 3.7151352155453528]"
      ]
     },
     "execution_count": 19,
     "metadata": {},
     "output_type": "execute_result"
    }
   ],
   "source": [
    "#Obtendo e visualizando os resíduos\n",
    "#Uma maneira muito comum de visualizarmos o quão bom certo modelo é para aprender determinados padrões dá-se por meio da visualização dos resíduos, isto é, da diferença entre os valores previstos e observados. Adapte o código a seguir para calcular os resíduos produzidos pelo seu modelo.\n",
    "residuos = []\n",
    "for(x, y) in zip(Y_test, Y_predito):\n",
    "    residuos.append((x-y)**2)\n",
    "residuos"
   ]
  },
  {
   "cell_type": "code",
   "execution_count": 21,
   "metadata": {},
   "outputs": [
    {
     "data": {
      "image/png": "[encoded data removed]",
      "text/plain": [
       "<Figure size 432x288 with 1 Axes>"
      ]
     },
     "metadata": {
      "needs_background": "light"
     },
     "output_type": "display_data"
    }
   ],
   "source": [
    "x = [0, int(max(Y_test))]\n",
    "y = [0,0]\n",
    "plt.plot(x,y,linewidth=3)\n",
    "plt.plot(Y_test, residuos, 'ro')\n",
    "plt.ylabel('Residuos')\n",
    "plt.xlabel('kml')\n",
    "plt.show()"
   ]
  },
  {
   "cell_type": "code",
   "execution_count": 24,
   "metadata": {},
   "outputs": [
    {
     "data": {
      "text/plain": [
       "KNeighborsRegressor(algorithm='auto', leaf_size=30, metric='minkowski',\n",
       "                    metric_params=None, n_jobs=None, n_neighbors=5, p=2,\n",
       "                    weights='uniform')"
      ]
     },
     "execution_count": 24,
     "metadata": {},
     "output_type": "execute_result"
    }
   ],
   "source": [
    "#Testando K-Vizinhos Mais Próximos\n",
    "#1 Efetue o treinamento do K-Vizinhos mais Próximos, considerando k =5\n",
    "#2 Obtenha o MSE para o conjunto de testes\n",
    "#3 Comparando com os resultados obtidos anteriormente, qual modelo melhor endereça esse problema?\n",
    "\n",
    "kviz = KNeighborsRegressor(n_neighbors=5)\n",
    "kviz.fit(X_train, Y_train)"
   ]
  },
  {
   "cell_type": "code",
   "execution_count": 25,
   "metadata": {},
   "outputs": [
    {
     "data": {
      "text/plain": [
       "3.172153762711865"
      ]
     },
     "execution_count": 25,
     "metadata": {},
     "output_type": "execute_result"
    }
   ],
   "source": [
    "Y_preditoKViz = kviz.predict(X_test)\n",
    "msekviz = mean_squared_error(Y_preditoKViz, Y_test)\n",
    "msekviz"
   ]
  },
  {
   "cell_type": "code",
   "execution_count": null,
   "metadata": {},
   "outputs": [],
   "source": []
  }
 ],
 "metadata": {
  "kernelspec": {
   "display_name": "Python 3",
   "language": "python",
   "name": "python3"
  },
  "language_info": {
   "codemirror_mode": {
    "name": "ipython",
    "version": 3
   },
   "file_extension": ".py",
   "mimetype": "text/x-python",
   "name": "python",
   "nbconvert_exporter": "python",
   "pygments_lexer": "ipython3",
   "version": "3.7.3"
  }
 },
 "nbformat": 4,
 "nbformat_minor": 2
}
