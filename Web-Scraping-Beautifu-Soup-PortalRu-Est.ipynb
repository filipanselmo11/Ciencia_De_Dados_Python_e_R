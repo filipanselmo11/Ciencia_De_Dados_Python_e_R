{
 "cells": [
  {
   "cell_type": "code",
<<<<<<< HEAD
   "execution_count": 74,
=======
   "execution_count": 212,
>>>>>>> d421d1555e5c19285d4573665de9fed97ca3de9d
   "metadata": {},
   "outputs": [],
   "source": [
    "#AGORA que acontece a parada\n",
    "import pandas as pd\n",
    "from urllib.request import urlopen\n",
    "from urllib.error import HTTPError\n",
    "from urllib.error import URLError\n",
    "from bs4 import BeautifulSoup"
   ]
  },
  {
   "cell_type": "code",
<<<<<<< HEAD
   "execution_count": 75,
=======
   "execution_count": 213,
>>>>>>> d421d1555e5c19285d4573665de9fed97ca3de9d
   "metadata": {},
   "outputs": [],
   "source": [
    "#URL BASE\n",
    "url = 'http://ru3.uea.edu.br/index.php?dest=cardapio'"
   ]
  },
  {
   "cell_type": "code",
<<<<<<< HEAD
   "execution_count": 76,
=======
   "execution_count": 214,
>>>>>>> d421d1555e5c19285d4573665de9fed97ca3de9d
   "metadata": {},
   "outputs": [],
   "source": [
    "#Tratando Erros da URL\n",
    "try:\n",
    "    html = urlopen(url)\n",
    "except HTTPError as e:\n",
    "    #Erros HTTP\n",
    "    print(e)\n",
    "except URLError as e:\n",
    "    #URL errada\n",
    "    print('Servidor não foi encontrado')"
   ]
  },
  {
   "cell_type": "code",
<<<<<<< HEAD
   "execution_count": 77,
=======
   "execution_count": 215,
>>>>>>> d421d1555e5c19285d4573665de9fed97ca3de9d
   "metadata": {},
   "outputs": [],
   "source": [
    "#Instanciando o BeautifulSoup\n",
    "bs = BeautifulSoup(html, 'lxml')\n",
    "#Imprimindo o título da página\n",
<<<<<<< HEAD
    "#est = bs.find('option', value='Escola Superior de Tecnologia')#\n",
    "#est = bs.find('value')\n",
    "est = bs.select('#unidadeCar.form-control')"
=======
    "#est = bs.find('option', value='Escola Superior de Tecnologia')\n",
    "est = bs.find('option', value='EST').get_text()"
>>>>>>> d421d1555e5c19285d4573665de9fed97ca3de9d
   ]
  },
  {
   "cell_type": "code",
<<<<<<< HEAD
   "execution_count": 78,
=======
   "execution_count": 216,
>>>>>>> d421d1555e5c19285d4573665de9fed97ca3de9d
   "metadata": {},
   "outputs": [
    {
     "name": "stdout",
     "output_type": "stream",
     "text": [
<<<<<<< HEAD
      "[<select class=\"form-control\" id=\"unidadeCar\" name=\"unidadeCar\">\n",
      "<option value=\"ESN\">Escola Normal Superior</option><option value=\"EAT\">Escola Superior de Artes e Turismo</option><option value=\"ESO\">Escola Superior de Ciências Sociais</option><option value=\"ESA\">Escola Superior de Ciências da Saúde</option><option value=\"EST\">Escola Superior de Tecnologia</option><option value=\"CESP\">Centro de Estudos Superiores de Parintins</option><option value=\"CESI\">Centro de Estudos Superiores de Itacoatiara</option><option value=\"CSTB\">Centro de Estudos Superiores de Tabatinga</option><option value=\"CEST\">Centro de Estudos Superiores de Tefé</option>\n",
      "</select>]\n"
=======
      "Escola Superior de Tecnologia\n"
>>>>>>> d421d1555e5c19285d4573665de9fed97ca3de9d
     ]
    }
   ],
   "source": [
    "print(est)"
   ]
  },
  {
   "cell_type": "code",
   "execution_count": 217,
   "metadata": {
    "scrolled": false
   },
   "outputs": [],
   "source": [
    "\n",
    "#data = bs.find('div', class_='panel-body')\n",
    "#print(data)\n",
    "data = BeautifulSoup(html, 'lxml')\n",
    "cafe = BeautifulSoup(html, 'lxml')\n",
    "almoco = BeautifulSoup(html, 'lxml')\n",
    "lanche = BeautifulSoup(html, 'lxml')\n",
    "datas = []\n",
    "cafes = []\n",
    "almocos = []\n",
    "lanches = []\n",
    "\n",
    "for data in datas:\n",
    "    datas.append(data.find('h2', class_='text-center').get_text())\n",
    "\n",
    "for cafe in cafes:\n",
    "    cafes.append(cafe.find('h2', class_='text-center').get_text())\n",
    "    \n",
    "for almoco in almocos:\n",
    "    almocos.append(almoco.find('h2', class_='text-center').get_text())\n",
    "    \n",
    "for lanches in lanche:\n",
    "    lanches.append(lanche.find('h2', class_='text-center').get_text())"
   ]
  },
  {
   "cell_type": "code",
   "execution_count": 218,
   "metadata": {},
   "outputs": [
    {
     "name": "stdout",
     "output_type": "stream",
     "text": [
      "[]\n"
     ]
    }
   ],
   "source": [
    "#Criando o dataset\n",
    "dataSet = pd.DataFrame({\n",
    "    \"data\": datas,\n",
    "    \"ano\"\n",
    "})"
   ]
  },
  {
   "cell_type": "code",
   "execution_count": null,
   "metadata": {},
   "outputs": [],
   "source": []
  }
 ],
 "metadata": {
  "kernelspec": {
   "display_name": "Python 3",
   "language": "python",
   "name": "python3"
  },
  "language_info": {
   "codemirror_mode": {
    "name": "ipython",
    "version": 3
   },
   "file_extension": ".py",
   "mimetype": "text/x-python",
   "name": "python",
   "nbconvert_exporter": "python",
   "pygments_lexer": "ipython3",
   "version": "3.7.3"
  }
 },
 "nbformat": 4,
 "nbformat_minor": 2
}
