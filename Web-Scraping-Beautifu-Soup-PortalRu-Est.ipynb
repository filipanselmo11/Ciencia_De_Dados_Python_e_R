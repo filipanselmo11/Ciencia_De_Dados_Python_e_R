{
 "cells": [
  {
   "cell_type": "code",
   "execution_count": 212,
   "metadata": {},
   "outputs": [],
   "source": [
    "#AGORA que acontece a parada\n",
    "import pandas as pd\n",
    "from urllib.request import urlopen\n",
    "from urllib.error import HTTPError\n",
    "from urllib.error import URLError\n",
    "from bs4 import BeautifulSoup"
   ]
  },
  {
   "cell_type": "code",
   "execution_count": 213,
   "metadata": {},
   "outputs": [],
   "source": [
    "#URL BASE\n",
    "url = 'http://ru3.uea.edu.br/index.php?dest=cardapio'"
   ]
  },
  {
   "cell_type": "code",
   "execution_count": 214,
   "metadata": {},
   "outputs": [],
   "source": [
    "#Tratando Erros da URL\n",
    "try:\n",
    "    html = urlopen(url)\n",
    "except HTTPError as e:\n",
    "    #Erros HTTP\n",
    "    print(e)\n",
    "except URLError as e:\n",
    "    #URL errada\n",
    "    print('Servidor não foi encontrado')"
   ]
  },
  {
   "cell_type": "code",
   "execution_count": 215,
   "metadata": {},
   "outputs": [],
   "source": [
    "#Instanciando o BeautifulSoup\n",
    "bs = BeautifulSoup(html, 'lxml')\n",
    "#Imprimindo o título da página\n",
    "#est = bs.find('option', value='Escola Superior de Tecnologia')\n",
    "est = bs.find('option', value='EST').get_text()"
   ]
  },
  {
   "cell_type": "code",
   "execution_count": 216,
   "metadata": {},
   "outputs": [
    {
     "name": "stdout",
     "output_type": "stream",
     "text": [
      "Escola Superior de Tecnologia\n"
     ]
    }
   ],
   "source": [
    "print(est)"
   ]
  },
  {
   "cell_type": "code",
   "execution_count": 217,
   "metadata": {
    "scrolled": false
   },
   "outputs": [],
   "source": [
    "\n",
    "#data = bs.find('div', class_='panel-body')\n",
    "#print(data)\n",
    "data = BeautifulSoup(html, 'lxml')\n",
    "cafe = BeautifulSoup(html, 'lxml')\n",
    "almoco = BeautifulSoup(html, 'lxml')\n",
    "lanche = BeautifulSoup(html, 'lxml')\n",
    "datas = []\n",
    "cafes = []\n",
    "almocos = []\n",
    "lanches = []\n",
    "\n",
    "for data in datas:\n",
    "    datas.append(data.find('h2', class_='text-center').get_text())\n",
    "\n",
    "for cafe in cafes:\n",
    "    cafes.append(cafe.find('h2', class_='text-center').get_text())\n",
    "    \n",
    "for almoco in almocos:\n",
    "    almocos.append(almoco.find('h2', class_='text-center').get_text())\n",
    "    \n",
    "for lanches in lanche:\n",
    "    lanches.append(lanche.find('h2', class_='text-center').get_text())"
   ]
  },
  {
   "cell_type": "code",
   "execution_count": 218,
   "metadata": {},
   "outputs": [
    {
     "name": "stdout",
     "output_type": "stream",
     "text": [
      "[]\n"
     ]
    }
   ],
   "source": [
    "#Criando o dataset\n",
    "dataSet = pd.DataFrame({\n",
    "    \"data\": datas,\n",
    "    \"ano\"\n",
    "})"
   ]
  },
  {
   "cell_type": "code",
   "execution_count": null,
   "metadata": {},
   "outputs": [],
   "source": []
  }
 ],
 "metadata": {
  "kernelspec": {
   "display_name": "Python 3",
   "language": "python",
   "name": "python3"
  },
  "language_info": {
   "codemirror_mode": {
    "name": "ipython",
    "version": 3
   },
   "file_extension": ".py",
   "mimetype": "text/x-python",
   "name": "python",
   "nbconvert_exporter": "python",
   "pygments_lexer": "ipython3",
   "version": "3.7.3"
  }
 },
 "nbformat": 4,
 "nbformat_minor": 2
}
