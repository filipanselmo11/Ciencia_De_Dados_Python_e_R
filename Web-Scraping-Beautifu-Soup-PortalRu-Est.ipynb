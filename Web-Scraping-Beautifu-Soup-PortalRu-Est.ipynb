{
 "cells": [
  {
   "cell_type": "code",
   "execution_count": 74,
   "metadata": {},
   "outputs": [],
   "source": [
    "#AGORA que acontece a parada\n",
    "import pandas as pd\n",
    "from urllib.request import urlopen\n",
    "from urllib.error import HTTPError\n",
    "from urllib.error import URLError\n",
    "from bs4 import BeautifulSoup"
   ]
  },
  {
   "cell_type": "code",
   "execution_count": 75,
   "metadata": {},
   "outputs": [],
   "source": [
    "#URL BASE\n",
    "url = 'http://ru3.uea.edu.br/index.php?dest=cardapio'"
   ]
  },
  {
   "cell_type": "code",
   "execution_count": 76,
   "metadata": {},
   "outputs": [],
   "source": [
    "#Tratando Erros da URL\n",
    "try:\n",
    "    html = urlopen(url)\n",
    "except HTTPError as e:\n",
    "    #Erros HTTP\n",
    "    print(e)\n",
    "except URLError as e:\n",
    "    #URL errada\n",
    "    print('Servidor não foi encontrado')"
   ]
  },
  {
   "cell_type": "code",
   "execution_count": 77,
   "metadata": {},
   "outputs": [],
   "source": [
    "#Instanciando o BeautifulSoup\n",
    "bs = BeautifulSoup(html, 'lxml')\n",
    "#Imprimindo o título da página\n",
    "#est = bs.find('option', value='Escola Superior de Tecnologia')#\n",
    "#est = bs.find('value')\n",
    "est = bs.select('#unidadeCar.form-control')"
   ]
  },
  {
   "cell_type": "code",
   "execution_count": 78,
   "metadata": {},
   "outputs": [
    {
     "name": "stdout",
     "output_type": "stream",
     "text": [
      "[<select class=\"form-control\" id=\"unidadeCar\" name=\"unidadeCar\">\n",
      "<option value=\"ESN\">Escola Normal Superior</option><option value=\"EAT\">Escola Superior de Artes e Turismo</option><option value=\"ESO\">Escola Superior de Ciências Sociais</option><option value=\"ESA\">Escola Superior de Ciências da Saúde</option><option value=\"EST\">Escola Superior de Tecnologia</option><option value=\"CESP\">Centro de Estudos Superiores de Parintins</option><option value=\"CESI\">Centro de Estudos Superiores de Itacoatiara</option><option value=\"CSTB\">Centro de Estudos Superiores de Tabatinga</option><option value=\"CEST\">Centro de Estudos Superiores de Tefé</option>\n",
      "</select>]\n"
     ]
    }
   ],
   "source": [
    "print(est)"
   ]
  },
  {
   "cell_type": "code",
   "execution_count": null,
   "metadata": {},
   "outputs": [],
   "source": []
  },
  {
   "cell_type": "code",
   "execution_count": null,
   "metadata": {},
   "outputs": [],
   "source": []
  }
 ],
 "metadata": {
  "kernelspec": {
   "display_name": "Python 3",
   "language": "python",
   "name": "python3"
  },
  "language_info": {
   "codemirror_mode": {
    "name": "ipython",
    "version": 3
   },
   "file_extension": ".py",
   "mimetype": "text/x-python",
   "name": "python",
   "nbconvert_exporter": "python",
   "pygments_lexer": "ipython3",
   "version": "3.7.3"
  }
 },
 "nbformat": 4,
 "nbformat_minor": 2
}
