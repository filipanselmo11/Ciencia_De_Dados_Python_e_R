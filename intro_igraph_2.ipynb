{
 "cells": [
  {
   "cell_type": "code",
   "execution_count": 1,
   "metadata": {},
   "outputs": [],
   "source": [
    "from igraph import Graph\n",
    "from igraph import plot"
   ]
  },
  {
   "cell_type": "code",
   "execution_count": 2,
   "metadata": {},
   "outputs": [
    {
     "name": "stdout",
     "output_type": "stream",
     "text": [
      "IGRAPH D--- 4 4 --\n",
      "+ attr: label (v)\n",
      "+ edges:\n",
      "0->1 2->2 2->3 3->0\n"
     ]
    }
   ],
   "source": [
    "grafo1 = Graph(edges = [(0,1),(2,2),(2,3),(3,0)], directed=True)\n",
    "grafo1.vs['label'] = range(grafo1.vcount())\n",
    "print(grafo1)"
   ]
  },
  {
   "cell_type": "code",
   "execution_count": 3,
   "metadata": {},
   "outputs": [
    {
     "name": "stdout",
     "output_type": "stream",
     "text": [
      "IGRAPH U--- 4 4 --\n",
      "+ edges:\n",
      "0--1 2--2 2--3 0--3\n"
     ]
    }
   ],
   "source": [
    "grafo2 = Graph(edges = [(0,1),(2,2),(2,3),(3,0)], directed=False)\n",
    "print(grafo2)"
   ]
  },
  {
   "cell_type": "code",
   "execution_count": 8,
   "metadata": {},
   "outputs": [
    {
     "name": "stdout",
     "output_type": "stream",
     "text": [
      "IGRAPH UN-- 11 4 --\n",
      "+ attr: name (v)\n",
      "+ edges (vertex names):\n",
      "None--None, None--None, None--None, None--None\n"
     ]
    }
   ],
   "source": [
    "grafo3 = Graph(directed=False)\n",
    "grafo3.add_vertices(10)\n",
    "grafo3.add_vertex(16)\n",
    "grafo3.add_edges([(0,1), (2,2), (2,3), (3,0)])\n",
    "print(grafo3)"
   ]
  },
  {
   "cell_type": "code",
   "execution_count": 9,
   "metadata": {},
   "outputs": [
    {
     "data": {
      "image/svg+xml": [
       "<?xml version=\"1.0\" encoding=\"UTF-8\"?>\n",
       "<svg xmlns=\"http://www.w3.org/2000/svg\" xmlns:xlink=\"http://www.w3.org/1999/xlink\" width=\"300pt\" height=\"300pt\" viewBox=\"0 0 300 300\" version=\"1.1\">\n",
       "<g id=\"surface14\">\n",
       "<rect x=\"0\" y=\"0\" width=\"300\" height=\"300\" style=\"fill:rgb(100%,100%,100%);fill-opacity:1;stroke:none;\"/>\n",
       "<path style=\"fill:none;stroke-width:1;stroke-linecap:butt;stroke-linejoin:miter;stroke:rgb(26.666667%,26.666667%,26.666667%);stroke-opacity:1;stroke-miterlimit:10;\" d=\"M 91.605469 52.484375 L 136.425781 20 \"/>\n",
       "<path style=\"fill:none;stroke-width:1;stroke-linecap:butt;stroke-linejoin:miter;stroke:rgb(26.666667%,26.666667%,26.666667%);stroke-opacity:1;stroke-miterlimit:10;\" d=\"M 45.605469 129.734375 C 45.605469 138.019531 38.890625 144.734375 30.605469 144.734375 C 22.324219 144.734375 15.605469 138.019531 15.605469 129.734375 C 15.605469 121.453125 22.324219 114.734375 30.605469 114.734375 C 38.890625 114.734375 45.605469 121.453125 45.605469 129.734375 \"/>\n",
       "<path style=\"fill:none;stroke-width:1;stroke-linecap:butt;stroke-linejoin:miter;stroke:rgb(26.666667%,26.666667%,26.666667%);stroke-opacity:1;stroke-miterlimit:10;\" d=\"M 20 140.34375 L 50.867188 94.457031 \"/>\n",
       "<path style=\"fill:none;stroke-width:1;stroke-linecap:butt;stroke-linejoin:miter;stroke:rgb(26.666667%,26.666667%,26.666667%);stroke-opacity:1;stroke-miterlimit:10;\" d=\"M 91.605469 52.484375 L 50.867188 94.457031 \"/>\n",
       "<path style=\"fill-rule:nonzero;fill:rgb(100%,0%,0%);fill-opacity:1;stroke-width:1;stroke-linecap:butt;stroke-linejoin:miter;stroke:rgb(0%,0%,0%);stroke-opacity:1;stroke-miterlimit:10;\" d=\"M 101.605469 52.484375 C 101.605469 58.007812 97.125 62.484375 91.605469 62.484375 C 86.082031 62.484375 81.605469 58.007812 81.605469 52.484375 C 81.605469 46.964844 86.082031 42.484375 91.605469 42.484375 C 97.125 42.484375 101.605469 46.964844 101.605469 52.484375 \"/>\n",
       "<path style=\"fill-rule:nonzero;fill:rgb(100%,0%,0%);fill-opacity:1;stroke-width:1;stroke-linecap:butt;stroke-linejoin:miter;stroke:rgb(0%,0%,0%);stroke-opacity:1;stroke-miterlimit:10;\" d=\"M 146.425781 20 C 146.425781 25.523438 141.949219 30 136.425781 30 C 130.902344 30 126.425781 25.523438 126.425781 20 C 126.425781 14.476562 130.902344 10 136.425781 10 C 141.949219 10 146.425781 14.476562 146.425781 20 \"/>\n",
       "<path style=\"fill-rule:nonzero;fill:rgb(100%,0%,0%);fill-opacity:1;stroke-width:1;stroke-linecap:butt;stroke-linejoin:miter;stroke:rgb(0%,0%,0%);stroke-opacity:1;stroke-miterlimit:10;\" d=\"M 30 140.34375 C 30 145.863281 25.523438 150.34375 20 150.34375 C 14.476562 150.34375 10 145.863281 10 140.34375 C 10 134.820312 14.476562 130.34375 20 130.34375 C 25.523438 130.34375 30 134.820312 30 140.34375 \"/>\n",
       "<path style=\"fill-rule:nonzero;fill:rgb(100%,0%,0%);fill-opacity:1;stroke-width:1;stroke-linecap:butt;stroke-linejoin:miter;stroke:rgb(0%,0%,0%);stroke-opacity:1;stroke-miterlimit:10;\" d=\"M 60.867188 94.457031 C 60.867188 99.980469 56.386719 104.457031 50.867188 104.457031 C 45.34375 104.457031 40.867188 99.980469 40.867188 94.457031 C 40.867188 88.933594 45.34375 84.457031 50.867188 84.457031 C 56.386719 84.457031 60.867188 88.933594 60.867188 94.457031 \"/>\n",
       "<path style=\"fill-rule:nonzero;fill:rgb(100%,0%,0%);fill-opacity:1;stroke-width:1;stroke-linecap:butt;stroke-linejoin:miter;stroke:rgb(0%,0%,0%);stroke-opacity:1;stroke-miterlimit:10;\" d=\"M 52.480469 236.566406 C 52.480469 242.089844 48.003906 246.566406 42.480469 246.566406 C 36.957031 246.566406 32.480469 242.089844 32.480469 236.566406 C 32.480469 231.042969 36.957031 226.566406 42.480469 226.566406 C 48.003906 226.566406 52.480469 231.042969 52.480469 236.566406 \"/>\n",
       "<path style=\"fill-rule:nonzero;fill:rgb(100%,0%,0%);fill-opacity:1;stroke-width:1;stroke-linecap:butt;stroke-linejoin:miter;stroke:rgb(0%,0%,0%);stroke-opacity:1;stroke-miterlimit:10;\" d=\"M 129.703125 280 C 129.703125 285.523438 125.222656 290 119.703125 290 C 114.179688 290 109.703125 285.523438 109.703125 280 C 109.703125 274.476562 114.179688 270 119.703125 270 C 125.222656 270 129.703125 274.476562 129.703125 280 \"/>\n",
       "<path style=\"fill-rule:nonzero;fill:rgb(100%,0%,0%);fill-opacity:1;stroke-width:1;stroke-linecap:butt;stroke-linejoin:miter;stroke:rgb(0%,0%,0%);stroke-opacity:1;stroke-miterlimit:10;\" d=\"M 243.84375 38.742188 C 243.84375 44.265625 239.367188 48.742188 233.84375 48.742188 C 228.324219 48.742188 223.84375 44.265625 223.84375 38.742188 C 223.84375 33.21875 228.324219 28.742188 233.84375 28.742188 C 239.367188 28.742188 243.84375 33.21875 243.84375 38.742188 \"/>\n",
       "<path style=\"fill-rule:nonzero;fill:rgb(100%,0%,0%);fill-opacity:1;stroke-width:1;stroke-linecap:butt;stroke-linejoin:miter;stroke:rgb(0%,0%,0%);stroke-opacity:1;stroke-miterlimit:10;\" d=\"M 285.285156 204.511719 C 285.285156 210.035156 280.808594 214.511719 275.285156 214.511719 C 269.761719 214.511719 265.285156 210.035156 265.285156 204.511719 C 265.285156 198.988281 269.761719 194.511719 275.285156 194.511719 C 280.808594 194.511719 285.285156 198.988281 285.285156 204.511719 \"/>\n",
       "<path style=\"fill-rule:nonzero;fill:rgb(100%,0%,0%);fill-opacity:1;stroke-width:1;stroke-linecap:butt;stroke-linejoin:miter;stroke:rgb(0%,0%,0%);stroke-opacity:1;stroke-miterlimit:10;\" d=\"M 290 114.21875 C 290 119.742188 285.523438 124.21875 280 124.21875 C 274.476562 124.21875 270 119.742188 270 114.21875 C 270 108.695312 274.476562 104.21875 280 104.21875 C 285.523438 104.21875 290 108.695312 290 114.21875 \"/>\n",
       "<path style=\"fill-rule:nonzero;fill:rgb(100%,0%,0%);fill-opacity:1;stroke-width:1;stroke-linecap:butt;stroke-linejoin:miter;stroke:rgb(0%,0%,0%);stroke-opacity:1;stroke-miterlimit:10;\" d=\"M 220.054688 271.824219 C 220.054688 277.347656 215.578125 281.824219 210.054688 281.824219 C 204.53125 281.824219 200.054688 277.347656 200.054688 271.824219 C 200.054688 266.300781 204.53125 261.824219 210.054688 261.824219 C 215.578125 261.824219 220.054688 266.300781 220.054688 271.824219 \"/>\n",
       "<path style=\"fill-rule:nonzero;fill:rgb(100%,0%,0%);fill-opacity:1;stroke-width:1;stroke-linecap:butt;stroke-linejoin:miter;stroke:rgb(0%,0%,0%);stroke-opacity:1;stroke-miterlimit:10;\" d=\"M 179.867188 168.210938 C 179.867188 173.734375 175.390625 178.210938 169.867188 178.210938 C 164.34375 178.210938 159.867188 173.734375 159.867188 168.210938 C 159.867188 162.6875 164.34375 158.210938 169.867188 158.210938 C 175.390625 158.210938 179.867188 162.6875 179.867188 168.210938 \"/>\n",
       "</g>\n",
       "</svg>\n"
      ],
      "text/plain": [
       "<igraph.drawing.Plot at 0x7f727d253320>"
      ]
     },
     "execution_count": 9,
     "metadata": {
      "image/svg+xml": {
       "isolated": true
      }
     },
     "output_type": "execute_result"
    }
   ],
   "source": [
    "plot(grafo3, bbox = (300,300))"
   ]
  },
  {
   "cell_type": "code",
   "execution_count": 15,
   "metadata": {},
   "outputs": [
    {
     "data": {
      "image/svg+xml": [
       "<?xml version=\"1.0\" encoding=\"UTF-8\"?>\n",
       "<svg xmlns=\"http://www.w3.org/2000/svg\" xmlns:xlink=\"http://www.w3.org/1999/xlink\" width=\"300pt\" height=\"300pt\" viewBox=\"0 0 300 300\" version=\"1.1\">\n",
       "<defs>\n",
       "<g>\n",
       "<symbol overflow=\"visible\" id=\"glyph0-0\">\n",
       "<path style=\"stroke:none;\" d=\"M 0.703125 2.46875 L 0.703125 -9.875 L 7.703125 -9.875 L 7.703125 2.46875 Z M 1.484375 1.703125 L 6.921875 1.703125 L 6.921875 -9.078125 L 1.484375 -9.078125 Z M 1.484375 1.703125 \"/>\n",
       "</symbol>\n",
       "<symbol overflow=\"visible\" id=\"glyph0-1\">\n",
       "<path style=\"stroke:none;\" d=\"M 4.78125 -8.84375 L 2.90625 -3.765625 L 6.671875 -3.765625 Z M 4 -10.203125 L 5.578125 -10.203125 L 9.46875 0 L 8.03125 0 L 7.09375 -2.625 L 2.5 -2.625 L 1.5625 0 L 0.109375 0 Z M 4 -10.203125 \"/>\n",
       "</symbol>\n",
       "<symbol overflow=\"visible\" id=\"glyph0-2\">\n",
       "<path style=\"stroke:none;\" d=\"M 2.75 -4.875 L 2.75 -1.140625 L 4.96875 -1.140625 C 5.707031 -1.140625 6.253906 -1.289062 6.609375 -1.59375 C 6.972656 -1.90625 7.15625 -2.378906 7.15625 -3.015625 C 7.15625 -3.648438 6.972656 -4.117188 6.609375 -4.421875 C 6.253906 -4.722656 5.707031 -4.875 4.96875 -4.875 Z M 2.75 -9.078125 L 2.75 -6 L 4.796875 -6 C 5.472656 -6 5.972656 -6.125 6.296875 -6.375 C 6.628906 -6.625 6.796875 -7.007812 6.796875 -7.53125 C 6.796875 -8.050781 6.628906 -8.4375 6.296875 -8.6875 C 5.972656 -8.945312 5.472656 -9.078125 4.796875 -9.078125 Z M 1.375 -10.203125 L 4.90625 -10.203125 C 5.957031 -10.203125 6.765625 -9.984375 7.328125 -9.546875 C 7.898438 -9.109375 8.1875 -8.488281 8.1875 -7.6875 C 8.1875 -7.0625 8.039062 -6.5625 7.75 -6.1875 C 7.457031 -5.820312 7.03125 -5.59375 6.46875 -5.5 C 7.144531 -5.351562 7.671875 -5.046875 8.046875 -4.578125 C 8.421875 -4.117188 8.609375 -3.546875 8.609375 -2.859375 C 8.609375 -1.941406 8.296875 -1.234375 7.671875 -0.734375 C 7.054688 -0.242188 6.175781 0 5.03125 0 L 1.375 0 Z M 1.375 -10.203125 \"/>\n",
       "</symbol>\n",
       "<symbol overflow=\"visible\" id=\"glyph0-3\">\n",
       "<path style=\"stroke:none;\" d=\"M 9.015625 -9.421875 L 9.015625 -7.96875 C 8.546875 -8.394531 8.046875 -8.710938 7.515625 -8.921875 C 6.992188 -9.140625 6.441406 -9.25 5.859375 -9.25 C 4.691406 -9.25 3.796875 -8.890625 3.171875 -8.171875 C 2.554688 -7.460938 2.25 -6.4375 2.25 -5.09375 C 2.25 -3.75 2.554688 -2.71875 3.171875 -2 C 3.796875 -1.289062 4.691406 -0.9375 5.859375 -0.9375 C 6.441406 -0.9375 6.992188 -1.039062 7.515625 -1.25 C 8.046875 -1.46875 8.546875 -1.796875 9.015625 -2.234375 L 9.015625 -0.78125 C 8.535156 -0.457031 8.023438 -0.210938 7.484375 -0.046875 C 6.941406 0.117188 6.367188 0.203125 5.765625 0.203125 C 4.222656 0.203125 3.003906 -0.269531 2.109375 -1.21875 C 1.222656 -2.164062 0.78125 -3.457031 0.78125 -5.09375 C 0.78125 -6.726562 1.222656 -8.019531 2.109375 -8.96875 C 3.003906 -9.914062 4.222656 -10.390625 5.765625 -10.390625 C 6.378906 -10.390625 6.957031 -10.304688 7.5 -10.140625 C 8.039062 -9.984375 8.546875 -9.742188 9.015625 -9.421875 Z M 9.015625 -9.421875 \"/>\n",
       "</symbol>\n",
       "<symbol overflow=\"visible\" id=\"glyph0-4\">\n",
       "<path style=\"stroke:none;\" d=\"M 2.75 -9.078125 L 2.75 -1.140625 L 4.421875 -1.140625 C 5.828125 -1.140625 6.859375 -1.457031 7.515625 -2.09375 C 8.171875 -2.726562 8.5 -3.734375 8.5 -5.109375 C 8.5 -6.484375 8.171875 -7.488281 7.515625 -8.125 C 6.859375 -8.757812 5.828125 -9.078125 4.421875 -9.078125 Z M 1.375 -10.203125 L 4.21875 -10.203125 C 6.1875 -10.203125 7.632812 -9.789062 8.5625 -8.96875 C 9.488281 -8.144531 9.953125 -6.859375 9.953125 -5.109375 C 9.953125 -3.347656 9.488281 -2.054688 8.5625 -1.234375 C 7.632812 -0.410156 6.1875 0 4.21875 0 L 1.375 0 Z M 1.375 -10.203125 \"/>\n",
       "</symbol>\n",
       "<symbol overflow=\"visible\" id=\"glyph0-5\">\n",
       "<path style=\"stroke:none;\" d=\"M 1.375 -10.203125 L 7.828125 -10.203125 L 7.828125 -9.046875 L 2.75 -9.046875 L 2.75 -6.015625 L 7.609375 -6.015625 L 7.609375 -4.859375 L 2.75 -4.859375 L 2.75 -1.15625 L 7.953125 -1.15625 L 7.953125 0 L 1.375 0 Z M 1.375 -10.203125 \"/>\n",
       "</symbol>\n",
       "<symbol overflow=\"visible\" id=\"glyph0-6\">\n",
       "<path style=\"stroke:none;\" d=\"M 1.375 -10.203125 L 7.234375 -10.203125 L 7.234375 -9.046875 L 2.75 -9.046875 L 2.75 -6.03125 L 6.796875 -6.03125 L 6.796875 -4.875 L 2.75 -4.875 L 2.75 0 L 1.375 0 Z M 1.375 -10.203125 \"/>\n",
       "</symbol>\n",
       "<symbol overflow=\"visible\" id=\"glyph0-7\">\n",
       "<path style=\"stroke:none;\" d=\"M 8.328125 -1.453125 L 8.328125 -4.203125 L 6.078125 -4.203125 L 6.078125 -5.328125 L 9.703125 -5.328125 L 9.703125 -0.953125 C 9.171875 -0.578125 8.582031 -0.289062 7.9375 -0.09375 C 7.289062 0.101562 6.601562 0.203125 5.875 0.203125 C 4.28125 0.203125 3.03125 -0.257812 2.125 -1.1875 C 1.226562 -2.125 0.78125 -3.425781 0.78125 -5.09375 C 0.78125 -6.757812 1.226562 -8.054688 2.125 -8.984375 C 3.03125 -9.921875 4.28125 -10.390625 5.875 -10.390625 C 6.539062 -10.390625 7.171875 -10.304688 7.765625 -10.140625 C 8.367188 -9.984375 8.925781 -9.742188 9.4375 -9.421875 L 9.4375 -7.953125 C 8.925781 -8.378906 8.382812 -8.703125 7.8125 -8.921875 C 7.238281 -9.140625 6.632812 -9.25 6 -9.25 C 4.75 -9.25 3.8125 -8.898438 3.1875 -8.203125 C 2.5625 -7.515625 2.25 -6.476562 2.25 -5.09375 C 2.25 -3.71875 2.5625 -2.679688 3.1875 -1.984375 C 3.8125 -1.285156 4.75 -0.9375 6 -0.9375 C 6.488281 -0.9375 6.921875 -0.976562 7.296875 -1.0625 C 7.679688 -1.144531 8.023438 -1.273438 8.328125 -1.453125 Z M 8.328125 -1.453125 \"/>\n",
       "</symbol>\n",
       "</g>\n",
       "</defs>\n",
       "<g id=\"surface50\">\n",
       "<rect x=\"0\" y=\"0\" width=\"300\" height=\"300\" style=\"fill:rgb(100%,100%,100%);fill-opacity:1;stroke:none;\"/>\n",
       "<path style=\"fill:none;stroke-width:1;stroke-linecap:butt;stroke-linejoin:miter;stroke:rgb(26.666667%,26.666667%,26.666667%);stroke-opacity:1;stroke-miterlimit:10;\" d=\"M 124.601562 111.957031 L 122.871094 20 \"/>\n",
       "<path style=\"fill:none;stroke-width:1;stroke-linecap:butt;stroke-linejoin:miter;stroke:rgb(26.666667%,26.666667%,26.666667%);stroke-opacity:1;stroke-miterlimit:10;\" d=\"M 122.871094 20 C 95.230469 18.789062 76.957031 31.28125 68.050781 57.476562 \"/>\n",
       "<path style=\"fill:none;stroke-width:1;stroke-linecap:butt;stroke-linejoin:miter;stroke:rgb(26.666667%,26.666667%,26.666667%);stroke-opacity:1;stroke-miterlimit:10;\" d=\"M 68.050781 57.476562 L 20 142.300781 \"/>\n",
       "<path style=\"fill:none;stroke-width:1;stroke-linecap:butt;stroke-linejoin:miter;stroke:rgb(26.666667%,26.666667%,26.666667%);stroke-opacity:1;stroke-miterlimit:10;\" d=\"M 20 142.300781 L 79.675781 198.890625 \"/>\n",
       "<path style=\"fill:none;stroke-width:1;stroke-linecap:butt;stroke-linejoin:miter;stroke:rgb(26.666667%,26.666667%,26.666667%);stroke-opacity:1;stroke-miterlimit:10;\" d=\"M 124.601562 111.957031 L 79.675781 198.890625 \"/>\n",
       "<path style=\"fill:none;stroke-width:1;stroke-linecap:butt;stroke-linejoin:miter;stroke:rgb(26.666667%,26.666667%,26.666667%);stroke-opacity:1;stroke-miterlimit:10;\" d=\"M 124.601562 111.957031 L 68.050781 57.476562 \"/>\n",
       "<path style=\"fill:none;stroke-width:1;stroke-linecap:butt;stroke-linejoin:miter;stroke:rgb(26.666667%,26.666667%,26.666667%);stroke-opacity:1;stroke-miterlimit:10;\" d=\"M 122.871094 20 C 113.96875 46.195312 95.695312 58.6875 68.050781 57.476562 \"/>\n",
       "<path style=\"fill-rule:nonzero;fill:rgb(100%,0%,0%);fill-opacity:1;stroke-width:1;stroke-linecap:butt;stroke-linejoin:miter;stroke:rgb(0%,0%,0%);stroke-opacity:1;stroke-miterlimit:10;\" d=\"M 134.601562 111.957031 C 134.601562 117.480469 130.121094 121.957031 124.601562 121.957031 C 119.078125 121.957031 114.601562 117.480469 114.601562 111.957031 C 114.601562 106.4375 119.078125 101.957031 124.601562 101.957031 C 130.121094 101.957031 134.601562 106.4375 134.601562 111.957031 \"/>\n",
       "<path style=\"fill-rule:nonzero;fill:rgb(100%,0%,0%);fill-opacity:1;stroke-width:1;stroke-linecap:butt;stroke-linejoin:miter;stroke:rgb(0%,0%,0%);stroke-opacity:1;stroke-miterlimit:10;\" d=\"M 132.871094 20 C 132.871094 25.523438 128.394531 30 122.871094 30 C 117.347656 30 112.871094 25.523438 112.871094 20 C 112.871094 14.476562 117.347656 10 122.871094 10 C 128.394531 10 132.871094 14.476562 132.871094 20 \"/>\n",
       "<path style=\"fill-rule:nonzero;fill:rgb(100%,0%,0%);fill-opacity:1;stroke-width:1;stroke-linecap:butt;stroke-linejoin:miter;stroke:rgb(0%,0%,0%);stroke-opacity:1;stroke-miterlimit:10;\" d=\"M 78.050781 57.476562 C 78.050781 63 73.574219 67.476562 68.050781 67.476562 C 62.53125 67.476562 58.050781 63 58.050781 57.476562 C 58.050781 51.953125 62.53125 47.476562 68.050781 47.476562 C 73.574219 47.476562 78.050781 51.953125 78.050781 57.476562 \"/>\n",
       "<path style=\"fill-rule:nonzero;fill:rgb(100%,0%,0%);fill-opacity:1;stroke-width:1;stroke-linecap:butt;stroke-linejoin:miter;stroke:rgb(0%,0%,0%);stroke-opacity:1;stroke-miterlimit:10;\" d=\"M 30 142.300781 C 30 147.824219 25.523438 152.300781 20 152.300781 C 14.476562 152.300781 10 147.824219 10 142.300781 C 10 136.777344 14.476562 132.300781 20 132.300781 C 25.523438 132.300781 30 136.777344 30 142.300781 \"/>\n",
       "<path style=\"fill-rule:nonzero;fill:rgb(100%,0%,0%);fill-opacity:1;stroke-width:1;stroke-linecap:butt;stroke-linejoin:miter;stroke:rgb(0%,0%,0%);stroke-opacity:1;stroke-miterlimit:10;\" d=\"M 89.675781 198.890625 C 89.675781 204.414062 85.199219 208.890625 79.675781 208.890625 C 74.152344 208.890625 69.675781 204.414062 69.675781 198.890625 C 69.675781 193.367188 74.152344 188.890625 79.675781 188.890625 C 85.199219 188.890625 89.675781 193.367188 89.675781 198.890625 \"/>\n",
       "<path style=\"fill-rule:nonzero;fill:rgb(100%,0%,0%);fill-opacity:1;stroke-width:1;stroke-linecap:butt;stroke-linejoin:miter;stroke:rgb(0%,0%,0%);stroke-opacity:1;stroke-miterlimit:10;\" d=\"M 219.875 280 C 219.875 285.523438 215.398438 290 209.875 290 C 204.351562 290 199.875 285.523438 199.875 280 C 199.875 274.476562 204.351562 270 209.875 270 C 215.398438 270 219.875 274.476562 219.875 280 \"/>\n",
       "<path style=\"fill-rule:nonzero;fill:rgb(100%,0%,0%);fill-opacity:1;stroke-width:1;stroke-linecap:butt;stroke-linejoin:miter;stroke:rgb(0%,0%,0%);stroke-opacity:1;stroke-miterlimit:10;\" d=\"M 290 93.910156 C 290 99.433594 285.523438 103.910156 280 103.910156 C 274.476562 103.910156 270 99.433594 270 93.910156 C 270 88.386719 274.476562 83.910156 280 83.910156 C 285.523438 83.910156 290 88.386719 290 93.910156 \"/>\n",
       "<g style=\"fill:rgb(0%,0%,0%);fill-opacity:1;\">\n",
       "  <use xlink:href=\"#glyph0-1\" x=\"119.816406\" y=\"118.710938\"/>\n",
       "</g>\n",
       "<g style=\"fill:rgb(0%,0%,0%);fill-opacity:1;\">\n",
       "  <use xlink:href=\"#glyph0-2\" x=\"117.878906\" y=\"26.753906\"/>\n",
       "</g>\n",
       "<g style=\"fill:rgb(0%,0%,0%);fill-opacity:1;\">\n",
       "  <use xlink:href=\"#glyph0-3\" x=\"63.152344\" y=\"64.324219\"/>\n",
       "</g>\n",
       "<g style=\"fill:rgb(0%,0%,0%);fill-opacity:1;\">\n",
       "  <use xlink:href=\"#glyph0-4\" x=\"14.335938\" y=\"149.054688\"/>\n",
       "</g>\n",
       "<g style=\"fill:rgb(0%,0%,0%);fill-opacity:1;\">\n",
       "  <use xlink:href=\"#glyph0-5\" x=\"75.015625\" y=\"205.644531\"/>\n",
       "</g>\n",
       "<g style=\"fill:rgb(0%,0%,0%);fill-opacity:1;\">\n",
       "  <use xlink:href=\"#glyph0-6\" x=\"205.566406\" y=\"286.753906\"/>\n",
       "</g>\n",
       "<g style=\"fill:rgb(0%,0%,0%);fill-opacity:1;\">\n",
       "  <use xlink:href=\"#glyph0-7\" x=\"274.757812\" y=\"100.757812\"/>\n",
       "</g>\n",
       "</g>\n",
       "</svg>\n"
      ],
      "text/plain": [
       "<igraph.drawing.Plot at 0x7f727d277160>"
      ]
     },
     "execution_count": 15,
     "metadata": {
      "image/svg+xml": {
       "isolated": true
      }
     },
     "output_type": "execute_result"
    }
   ],
   "source": [
    "grafo4 = Graph(directed=False)\n",
    "grafo4.add_vertices(5)\n",
    "grafo4.add_edges([(0,1),(1,2),(2,3),(3,4),(4,0),(0,2),(2,1)])\n",
    "grafo4.add_vertex(5)\n",
    "grafo4.add_vertex(6)\n",
    "grafo4.vs['label'] = ['A', 'B', 'C', 'D', 'E', 'F', 'G']\n",
    "plot(grafo4, bbox=(300,300))"
   ]
  },
  {
   "cell_type": "code",
   "execution_count": null,
   "metadata": {},
   "outputs": [],
   "source": []
  }
 ],
 "metadata": {
  "kernelspec": {
   "display_name": "Python 3",
   "language": "python",
   "name": "python3"
  },
  "language_info": {
   "codemirror_mode": {
    "name": "ipython",
    "version": 3
   },
   "file_extension": ".py",
   "mimetype": "text/x-python",
   "name": "python",
   "nbconvert_exporter": "python",
   "pygments_lexer": "ipython3",
   "version": "3.7.3"
  }
 },
 "nbformat": 4,
 "nbformat_minor": 2
}
