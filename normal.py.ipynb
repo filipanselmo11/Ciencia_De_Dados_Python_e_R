{
 "cells": [
  {
   "cell_type": "code",
   "execution_count": 19,
   "metadata": {},
   "outputs": [],
   "source": [
    "from scipy.stats import norm"
   ]
  },
  {
   "cell_type": "code",
   "execution_count": 20,
   "metadata": {},
   "outputs": [
    {
     "name": "stdout",
     "output_type": "stream",
     "text": [
      "0.15865525393145707\n"
     ]
    }
   ],
   "source": [
    "x = norm.cdf(6, 8, 2) # menor que\n",
    "print(x)"
   ]
  },
  {
   "cell_type": "code",
   "execution_count": 21,
   "metadata": {},
   "outputs": [
    {
     "name": "stdout",
     "output_type": "stream",
     "text": [
      "0.8413447460685429\n"
     ]
    }
   ],
   "source": [
    "x = norm.sf(6, 8, 2) # maior que, forma 1\n",
    "print(x)"
   ]
  },
  {
   "cell_type": "code",
   "execution_count": 22,
   "metadata": {},
   "outputs": [
    {
     "name": "stdout",
     "output_type": "stream",
     "text": [
      "0.8413447460685429\n"
     ]
    }
   ],
   "source": [
    "x = 1 - norm.cdf(6, 8, 2) # maior que, forma 2\n",
    "print(x)"
   ]
  },
  {
   "cell_type": "code",
   "execution_count": 23,
   "metadata": {},
   "outputs": [
    {
     "name": "stdout",
     "output_type": "stream",
     "text": [
      "0.31731050786291415\n"
     ]
    }
   ],
   "source": [
    " #menor que 6 ou maior que 10\n",
    "x = norm.cdf(6, 8 ,2)\n",
    "y = norm.sf(10, 8, 2)\n",
    "soma = x + y\n",
    "print(soma)"
   ]
  },
  {
   "cell_type": "code",
   "execution_count": 24,
   "metadata": {},
   "outputs": [
    {
     "name": "stdout",
     "output_type": "stream",
     "text": [
      "0.3413447460685429\n"
     ]
    }
   ],
   "source": [
    "# menor que 10 e maior que 8\n",
    "x = norm.cdf(10, 8, 2)\n",
    "y = norm.cdf(8, 8, 2)\n",
    "sub = x - y\n",
    "print(sub)"
   ]
  },
  {
   "cell_type": "code",
   "execution_count": 25,
   "metadata": {},
   "outputs": [],
   "source": [
    "from scipy import stats\n",
    "from scipy.stats import norm\n",
    "import matplotlib.pyplot as plt"
   ]
  },
  {
   "cell_type": "code",
   "execution_count": 26,
   "metadata": {},
   "outputs": [],
   "source": [
    "# verificando se os dados estão distribuiods normalmente\n",
    "dados = norm.rvs(size = 100)"
   ]
  },
  {
   "cell_type": "code",
   "execution_count": 27,
   "metadata": {},
   "outputs": [
    {
     "data": {
      "text/plain": [
       "((array([-2.46203784, -2.12570747, -1.93122778, -1.79044653, -1.67819304,\n",
       "         -1.58381122, -1.50174123, -1.42869743, -1.36256869, -1.30191411,\n",
       "         -1.24570419, -1.19317644, -1.14374949, -1.09696931, -1.05247413,\n",
       "         -1.00997067, -0.96921765, -0.93001393, -0.89218993, -0.85560121,\n",
       "         -0.82012357, -0.78564937, -0.75208458, -0.71934648, -0.68736185,\n",
       "         -0.65606548, -0.62539893, -0.59530962, -0.56574992, -0.53667655,\n",
       "         -0.50804994, -0.47983378, -0.45199463, -0.42450149, -0.39732558,\n",
       "         -0.37044003, -0.34381966, -0.31744076, -0.29128096, -0.26531902,\n",
       "         -0.23953472, -0.21390872, -0.18842244, -0.16305799, -0.13779803,\n",
       "         -0.1126257 , -0.08752455, -0.06247843, -0.03747145, -0.01248789,\n",
       "          0.01248789,  0.03747145,  0.06247843,  0.08752455,  0.1126257 ,\n",
       "          0.13779803,  0.16305799,  0.18842244,  0.21390872,  0.23953472,\n",
       "          0.26531902,  0.29128096,  0.31744076,  0.34381966,  0.37044003,\n",
       "          0.39732558,  0.42450149,  0.45199463,  0.47983378,  0.50804994,\n",
       "          0.53667655,  0.56574992,  0.59530962,  0.62539893,  0.65606548,\n",
       "          0.68736185,  0.71934648,  0.75208458,  0.78564937,  0.82012357,\n",
       "          0.85560121,  0.89218993,  0.93001393,  0.96921765,  1.00997067,\n",
       "          1.05247413,  1.09696931,  1.14374949,  1.19317644,  1.24570419,\n",
       "          1.30191411,  1.36256869,  1.42869743,  1.50174123,  1.58381122,\n",
       "          1.67819304,  1.79044653,  1.93122778,  2.12570747,  2.46203784]),\n",
       "  array([-3.70438189, -2.88645729, -2.18676255, -2.16103155, -2.11500255,\n",
       "         -1.81264038, -1.56488401, -1.24605979, -1.23439164, -1.07618402,\n",
       "         -1.01576633, -0.99044719, -0.93572095, -0.93289144, -0.92424524,\n",
       "         -0.89665173, -0.85379673, -0.74146466, -0.6569086 , -0.64371604,\n",
       "         -0.64352542, -0.60258629, -0.59775972, -0.59542974, -0.58616248,\n",
       "         -0.58164151, -0.54690532, -0.54543686, -0.52545536, -0.51140531,\n",
       "         -0.50909583, -0.49932725, -0.46747033, -0.43365356, -0.43155311,\n",
       "         -0.40496401, -0.37973064, -0.36618205, -0.35603401, -0.33079084,\n",
       "         -0.32880594, -0.30607615, -0.25727341, -0.24360215, -0.21499968,\n",
       "         -0.15437295, -0.15161888, -0.05957035, -0.05481499, -0.04349691,\n",
       "         -0.02956116, -0.02757943, -0.01147499,  0.00495362,  0.0445217 ,\n",
       "          0.06418491,  0.09945429,  0.1262047 ,  0.14278135,  0.15371817,\n",
       "          0.20265718,  0.23952224,  0.26908787,  0.29180042,  0.31988376,\n",
       "          0.44680191,  0.48230874,  0.48784102,  0.51554697,  0.52707699,\n",
       "          0.54573145,  0.56857274,  0.67128799,  0.67938574,  0.68625072,\n",
       "          0.75315529,  0.7569254 ,  0.75808079,  0.76890085,  0.79013778,\n",
       "          0.81405768,  0.81640831,  0.85075732,  0.87744488,  0.90345102,\n",
       "          0.93482235,  0.94614587,  0.96046038,  1.12587101,  1.16430489,\n",
       "          1.19456502,  1.20077295,  1.29862739,  1.34216023,  1.50479669,\n",
       "          1.5981643 ,  1.74401224,  1.777265  ,  2.64546681,  3.16144562])),\n",
       " (1.0447437815857727, -0.021199866972375057, 0.9812433153978065))"
      ]
     },
     "execution_count": 27,
     "metadata": {},
     "output_type": "execute_result"
    },
    {
     "data": {
      "image/png": "[encoded data removed]",
      "text/plain": [
       "<Figure size 432x288 with 1 Axes>"
      ]
     },
     "metadata": {
      "needs_background": "light"
     },
     "output_type": "display_data"
    }
   ],
   "source": [
    "stats.probplot(dados, plot = plt)"
   ]
  },
  {
   "cell_type": "code",
   "execution_count": 18,
   "metadata": {},
   "outputs": [
    {
     "data": {
      "text/plain": [
       "(0.9852144122123718, 0.3290625810623169)"
      ]
     },
     "execution_count": 18,
     "metadata": {},
     "output_type": "execute_result"
    }
   ],
   "source": [
    "stats.shapiro(dados) #teste de shapiro"
   ]
  },
  {
   "cell_type": "code",
   "execution_count": 28,
   "metadata": {},
   "outputs": [
    {
     "name": "stdout",
     "output_type": "stream",
     "text": [
      "0.6987585599335602\n"
     ]
    }
   ],
   "source": [
    "a = norm.cdf(1500, 1250, 480)\n",
    "print(a)"
   ]
  },
  {
   "cell_type": "code",
   "execution_count": null,
   "metadata": {},
   "outputs": [],
   "source": []
  }
 ],
 "metadata": {
  "kernelspec": {
   "display_name": "Python 3",
   "language": "python",
   "name": "python3"
  },
  "language_info": {
   "codemirror_mode": {
    "name": "ipython",
    "version": 3
   },
   "file_extension": ".py",
   "mimetype": "text/x-python",
   "name": "python",
   "nbconvert_exporter": "python",
   "pygments_lexer": "ipython3",
   "version": "3.7.3"
  }
 },
 "nbformat": 4,
 "nbformat_minor": 2
}
