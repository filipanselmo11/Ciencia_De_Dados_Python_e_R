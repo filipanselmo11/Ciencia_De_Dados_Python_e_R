{
 "cells": [
  {
   "cell_type": "code",
   "execution_count": 1,
   "metadata": {},
   "outputs": [],
   "source": [
    "import pandas as pd\n",
    "import matplotlib.pyplot as plt"
   ]
  },
  {
   "cell_type": "code",
   "execution_count": 2,
   "metadata": {},
   "outputs": [],
   "source": [
    "base = pd.read_csv('AirPassengers.csv')"
   ]
  },
  {
   "cell_type": "code",
   "execution_count": 3,
   "metadata": {},
   "outputs": [],
   "source": [
    "dateparse = lambda dates: pd.datetime.strptime(dates, '%Y-%m')"
   ]
  },
  {
   "cell_type": "code",
   "execution_count": 4,
   "metadata": {},
   "outputs": [],
   "source": [
    "base = pd.read_csv('AirPassengers.csv', parse_dates = ['Month'],\n",
    "                  index_col = 'Month', date_parser = dateparse)"
   ]
  },
  {
   "cell_type": "code",
   "execution_count": 5,
   "metadata": {},
   "outputs": [],
   "source": [
    "ts = base['#Passengers'] ##Série Temporal"
   ]
  },
  {
   "cell_type": "code",
   "execution_count": 6,
   "metadata": {},
   "outputs": [
    {
     "name": "stderr",
     "output_type": "stream",
     "text": [
      "/home/filipanselmo/anaconda3/lib/python3.7/site-packages/pandas/plotting/_converter.py:129: FutureWarning: Using an implicitly registered datetime converter for a matplotlib plotting method. The converter was registered by pandas on import. Future versions of pandas will require you to explicitly register matplotlib converters.\n",
      "\n",
      "To register the converters:\n",
      "\t>>> from pandas.plotting import register_matplotlib_converters\n",
      "\t>>> register_matplotlib_converters()\n",
      "  warnings.warn(msg, FutureWarning)\n"
     ]
    },
    {
     "data": {
      "text/plain": [
       "[<matplotlib.lines.Line2D at 0x7ff78ea5a470>]"
      ]
     },
     "execution_count": 6,
     "metadata": {},
     "output_type": "execute_result"
    },
    {
     "data": {
      "image/png": "[encoded data removed]",
      "text/plain": [
       "<Figure size 432x288 with 1 Axes>"
      ]
     },
     "metadata": {
      "needs_background": "light"
     },
     "output_type": "display_data"
    }
   ],
   "source": [
    "plt.plot(ts)"
   ]
  },
  {
   "cell_type": "code",
   "execution_count": 7,
   "metadata": {},
   "outputs": [
    {
     "data": {
      "text/plain": [
       "280.2986111111111"
      ]
     },
     "execution_count": 7,
     "metadata": {},
     "output_type": "execute_result"
    }
   ],
   "source": [
    "ts.mean()"
   ]
  },
  {
   "cell_type": "code",
   "execution_count": 8,
   "metadata": {},
   "outputs": [
    {
     "data": {
      "text/plain": [
       "476.1666666666667"
      ]
     },
     "execution_count": 8,
     "metadata": {},
     "output_type": "execute_result"
    }
   ],
   "source": [
    "ts['1960-01-01':'1960-12-01'].mean()"
   ]
  },
  {
   "cell_type": "code",
   "execution_count": 13,
   "metadata": {},
   "outputs": [
    {
     "data": {
      "text/plain": [
       "Month\n",
       "1949-01-01           NaN\n",
       "1949-02-01           NaN\n",
       "1949-03-01           NaN\n",
       "1949-04-01           NaN\n",
       "1949-05-01           NaN\n",
       "1949-06-01           NaN\n",
       "1949-07-01           NaN\n",
       "1949-08-01           NaN\n",
       "1949-09-01           NaN\n",
       "1949-10-01           NaN\n",
       "1949-11-01           NaN\n",
       "1949-12-01    126.666667\n",
       "1950-01-01    126.916667\n",
       "1950-02-01    127.583333\n",
       "1950-03-01    128.333333\n",
       "1950-04-01    128.833333\n",
       "1950-05-01    129.166667\n",
       "1950-06-01    130.333333\n",
       "1950-07-01    132.166667\n",
       "1950-08-01    134.000000\n",
       "1950-09-01    135.833333\n",
       "1950-10-01    137.000000\n",
       "1950-11-01    137.833333\n",
       "1950-12-01    139.666667\n",
       "1951-01-01    142.166667\n",
       "1951-02-01    144.166667\n",
       "1951-03-01    147.250000\n",
       "1951-04-01    149.583333\n",
       "1951-05-01    153.500000\n",
       "1951-06-01    155.916667\n",
       "                 ...    \n",
       "1958-07-01    376.333333\n",
       "1958-08-01    379.500000\n",
       "1958-09-01    379.500000\n",
       "1958-10-01    380.500000\n",
       "1958-11-01    380.916667\n",
       "1958-12-01    381.000000\n",
       "1959-01-01    382.666667\n",
       "1959-02-01    384.666667\n",
       "1959-03-01    388.333333\n",
       "1959-04-01    392.333333\n",
       "1959-05-01    397.083333\n",
       "1959-06-01    400.166667\n",
       "1959-07-01    404.916667\n",
       "1959-08-01    409.416667\n",
       "1959-09-01    414.333333\n",
       "1959-10-01    418.333333\n",
       "1959-11-01    422.666667\n",
       "1959-12-01    428.333333\n",
       "1960-01-01    433.083333\n",
       "1960-02-01    437.166667\n",
       "1960-03-01    438.250000\n",
       "1960-04-01    443.666667\n",
       "1960-05-01    448.000000\n",
       "1960-06-01    453.250000\n",
       "1960-07-01    459.416667\n",
       "1960-08-01    463.333333\n",
       "1960-09-01    467.083333\n",
       "1960-10-01    471.583333\n",
       "1960-11-01    473.916667\n",
       "1960-12-01    476.166667\n",
       "Name: #Passengers, Length: 144, dtype: float64"
      ]
     },
     "execution_count": 13,
     "metadata": {},
     "output_type": "execute_result"
    }
   ],
   "source": [
    "media_movel = ts.rolling(window = 12).mean()\n",
    "media_movel"
   ]
  },
  {
   "cell_type": "code",
   "execution_count": 14,
   "metadata": {},
   "outputs": [
    {
     "data": {
      "text/plain": [
       "126.66666666666667"
      ]
     },
     "execution_count": 14,
     "metadata": {},
     "output_type": "execute_result"
    }
   ],
   "source": [
    "ts[0:12].mean()"
   ]
  },
  {
   "cell_type": "code",
   "execution_count": 15,
   "metadata": {},
   "outputs": [
    {
     "data": {
      "text/plain": [
       "126.91666666666667"
      ]
     },
     "execution_count": 15,
     "metadata": {},
     "output_type": "execute_result"
    }
   ],
   "source": [
    "ts[1:13].mean()"
   ]
  },
  {
   "cell_type": "code",
   "execution_count": 16,
   "metadata": {},
   "outputs": [
    {
     "data": {
      "text/plain": [
       "[<matplotlib.lines.Line2D at 0x7ff78e58f5f8>]"
      ]
     },
     "execution_count": 16,
     "metadata": {},
     "output_type": "execute_result"
    },
    {
     "data": {
      "image/png": "[encoded data removed]",
      "text/plain": [
       "<Figure size 432x288 with 1 Axes>"
      ]
     },
     "metadata": {
      "needs_background": "light"
     },
     "output_type": "display_data"
    }
   ],
   "source": [
    "plt.plot(ts)\n",
    "plt.plot(media_movel, color = 'red')"
   ]
  },
  {
   "cell_type": "code",
   "execution_count": 19,
   "metadata": {},
   "outputs": [],
   "source": [
    "previsoes = []\n",
    "for i in range(1,13):\n",
    "    #print(i)\n",
    "    superior = len(media_movel) - i\n",
    "    inferior = superior - 11\n",
    "    #print(inferior)\n",
    "    #print(superior)\n",
    "    #print('~~~')\n",
    "    previsoes.append(media_movel[inferior:superior].mean())"
   ]
  },
  {
   "cell_type": "code",
   "execution_count": 23,
   "metadata": {},
   "outputs": [],
   "source": [
    "previsoes = previsoes[::-1]"
   ]
  },
  {
   "cell_type": "code",
   "execution_count": 24,
   "metadata": {},
   "outputs": [
    {
     "data": {
      "text/plain": [
       "[<matplotlib.lines.Line2D at 0x7ff78e3353c8>]"
      ]
     },
     "execution_count": 24,
     "metadata": {},
     "output_type": "execute_result"
    },
    {
     "data": {
      "image/png": "[encoded data removed]",
      "text/plain": [
       "<Figure size 432x288 with 1 Axes>"
      ]
     },
     "metadata": {
      "needs_background": "light"
     },
     "output_type": "display_data"
    }
   ],
   "source": [
    "plt.plot(previsoes)"
   ]
  },
  {
   "cell_type": "code",
   "execution_count": null,
   "metadata": {},
   "outputs": [],
   "source": []
  }
 ],
 "metadata": {
  "kernelspec": {
   "display_name": "Python 3",
   "language": "python",
   "name": "python3"
  },
  "language_info": {
   "codemirror_mode": {
    "name": "ipython",
    "version": 3
   },
   "file_extension": ".py",
   "mimetype": "text/x-python",
   "name": "python",
   "nbconvert_exporter": "python",
   "pygments_lexer": "ipython3",
   "version": "3.7.3"
  }
 },
 "nbformat": 4,
 "nbformat_minor": 2
}
