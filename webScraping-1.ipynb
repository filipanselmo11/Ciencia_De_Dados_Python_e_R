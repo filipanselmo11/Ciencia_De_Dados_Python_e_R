{
 "cells": [
  {
   "cell_type": "code",
   "execution_count": 1,
   "metadata": {},
   "outputs": [],
   "source": [
    "from urllib.request import urlopen"
   ]
  },
  {
   "cell_type": "code",
   "execution_count": 2,
   "metadata": {},
   "outputs": [],
   "source": [
    "#Definimos a url alvo. obs: esta url vem de um livro sobre o assunto do tópico\n",
    "url = 'http://pythonscraping.com/pages/page1.html'"
   ]
  },
  {
   "cell_type": "code",
   "execution_count": 3,
   "metadata": {},
   "outputs": [],
   "source": [
    "#Aplicamos uma requisição para pegar o HTML\n",
    "html = urlopen(url)"
   ]
  },
  {
   "cell_type": "code",
   "execution_count": 4,
   "metadata": {},
   "outputs": [
    {
     "data": {
      "text/plain": [
       "b'<html>\\n<head>\\n<title>A Useful Page</title>\\n</head>\\n<body>\\n<h1>An Interesting Title</h1>\\n<div>\\nLorem ipsum dolor sit amet, consectetur adipisicing elit, sed do eiusmod tempor incididunt ut labore et dolore magna aliqua. Ut enim ad minim veniam, quis nostrud exercitation ullamco laboris nisi ut aliquip ex ea commodo consequat. Duis aute irure dolor in reprehenderit in voluptate velit esse cillum dolore eu fugiat nulla pariatur. Excepteur sint occaecat cupidatat non proident, sunt in culpa qui officia deserunt mollit anim id est laborum.\\n</div>\\n</body>\\n</html>\\n'"
      ]
     },
     "execution_count": 4,
     "metadata": {},
     "output_type": "execute_result"
    }
   ],
   "source": [
    "#verificando o conteudo\n",
    "html.read()"
   ]
  },
  {
   "cell_type": "code",
   "execution_count": 17,
   "metadata": {},
   "outputs": [],
   "source": [
    "#Importando a BeautifulSoup\n",
    "from bs4 import BeautifulSoup"
   ]
  },
  {
   "cell_type": "code",
   "execution_count": 50,
   "metadata": {},
   "outputs": [],
   "source": [
    "#Mudar a url\n",
    "url = 'http://ru3.uea.edu.br/index.php?dest=cardapio'"
   ]
  },
  {
   "cell_type": "code",
   "execution_count": 51,
   "metadata": {},
   "outputs": [],
   "source": [
    "#Lendo a Url com a urllopen\n",
    "html = urlopen(url)"
   ]
  },
  {
   "cell_type": "code",
   "execution_count": 52,
   "metadata": {},
   "outputs": [],
   "source": [
    "#Poder do BeautifulSoup\n",
    "bs = BeautifulSoup(html, 'lxml')"
   ]
  },
  {
   "cell_type": "code",
   "execution_count": 53,
   "metadata": {},
   "outputs": [
    {
     "name": "stdout",
     "output_type": "stream",
     "text": [
      "<title>UEA RU</title>\n"
     ]
    }
   ],
   "source": [
    "#Imprimindo o titulo da pagina\n",
    "print(bs.title)"
   ]
  },
  {
   "cell_type": "code",
   "execution_count": 54,
   "metadata": {},
   "outputs": [
    {
     "name": "stdout",
     "output_type": "stream",
     "text": [
      "[<dt>Desjejum</dt>, <dt>Complemento</dt>, <dt>Salada</dt>, <dt>Acompanhamento</dt>, <dt>Guarnição</dt>, <dt>Prato Principal 1</dt>, <dt>Prato Principal 2</dt>, <dt>Sobremesa</dt>, <dt>Desjejum</dt>, <dt>Complemento</dt>, <dt>Salada</dt>, <dt>Acompanhamento</dt>, <dt>Guarnição</dt>, <dt>Prato Principal 1</dt>, <dt>Prato Principal 2</dt>, <dt>Sobremesa</dt>]\n"
     ]
    }
   ],
   "source": [
    "#Imprimindo todas as dts da página\n",
    "print(bs.find_all('dt'))"
   ]
  },
  {
   "cell_type": "code",
   "execution_count": 31,
   "metadata": {},
   "outputs": [
    {
     "name": "stdout",
     "output_type": "stream",
     "text": [
      "[<dd>CAFÉ C/ LEITE/NESCAU/PÃO</dd>, <dd>TAPIOCA/OVOS MEXIDOS/MELANCIA</dd>, <dd>SALADA CRUA/COZIDA</dd>, <dd>ARROZ/FEIJÃO COM LEGUMES/FAROFA</dd>, <dd>MACARRÃO PARAFUSO</dd>, <dd>FILÉ DE FRANGO GRELHADO</dd>, <dd>TORTA DE CARNE</dd>, <dd>BANANA/SUCO</dd>, <dd>CAFÉ C/ LEITE/NESCAU/PÃO</dd>, <dd>TAPIOCA/SALSICHA AO MOLHO/BANANA</dd>, <dd>SALADA CRUA/COZIDA</dd>, <dd>ARROZ/FEIJÃO COM LEGUMES/FAROFA</dd>, <dd>MACARRÃO</dd>, <dd>FEIJOADA</dd>, <dd>FRANGO ASSADO</dd>, <dd>LARANJA/SUCO</dd>]\n"
     ]
    }
   ],
   "source": [
    "#Imprimindo todas as dds da página\n",
    "print(bs.find_all('dd'))"
   ]
  },
  {
   "cell_type": "code",
   "execution_count": 33,
   "metadata": {},
   "outputs": [
    {
     "name": "stdout",
     "output_type": "stream",
     "text": [
      "Foram econtradas 16 ocorrências de dt\n"
     ]
    }
   ],
   "source": [
    "#Numeros de dts encontrados ná pagina\n",
    "print(\"Foram econtradas {} ocorrências de dt\".format(len(bs.find_all('dt'))))"
   ]
  },
  {
   "cell_type": "code",
   "execution_count": 34,
   "metadata": {},
   "outputs": [
    {
     "name": "stdout",
     "output_type": "stream",
     "text": [
      "Foram encontradas 16 ocorrências de dd\n"
     ]
    }
   ],
   "source": [
    "#Numeros de dds na página\n",
    "print(\"Foram encontradas {} ocorrências de dd\".format(len(bs.find_all('dd'))))"
   ]
  },
  {
   "cell_type": "code",
   "execution_count": 35,
   "metadata": {},
   "outputs": [
    {
     "data": {
      "text/plain": [
       "<dt>Desjejum</dt>"
      ]
     },
     "execution_count": 35,
     "metadata": {},
     "output_type": "execute_result"
    }
   ],
   "source": [
    "#Usando o find para o primeiro resultado a ser extraido\n",
    "bs.find('dt')"
   ]
  },
  {
   "cell_type": "code",
   "execution_count": 43,
   "metadata": {},
   "outputs": [],
   "source": [
    "#Importando os submódulos que vão ajudar a tratar os erros\n",
    "from urllib.error import HTTPError\n",
    "from urllib.error import URLError"
   ]
  },
  {
   "cell_type": "code",
   "execution_count": 44,
   "metadata": {},
   "outputs": [],
   "source": [
    "#Tratamento dos erros em nível de URL\n",
    "try:\n",
    "    htlm = urlopen('http://ru3.uea.edu.br/index.php?dest=cardapio')\n",
    "except HTTPError as e:\n",
    "    #Erros Http\n",
    "    print(e)\n",
    "except URLError as e:\n",
    "    #Url Errada\n",
    "    print('O servidor não foi encontrado')"
   ]
  },
  {
   "cell_type": "code",
   "execution_count": null,
   "metadata": {},
   "outputs": [],
   "source": [
    "#AGORA que acontece a parada"
   ]
  }
 ],
 "metadata": {
  "kernelspec": {
   "display_name": "Python 3",
   "language": "python",
   "name": "python3"
  },
  "language_info": {
   "codemirror_mode": {
    "name": "ipython",
    "version": 3
   },
   "file_extension": ".py",
   "mimetype": "text/x-python",
   "name": "python",
   "nbconvert_exporter": "python",
   "pygments_lexer": "ipython3",
   "version": "3.7.3"
  }
 },
 "nbformat": 4,
 "nbformat_minor": 2
}
